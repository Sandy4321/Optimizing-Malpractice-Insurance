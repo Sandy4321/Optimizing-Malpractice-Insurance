{
 "cells": [
  {
   "cell_type": "code",
   "execution_count": 2,
   "metadata": {
    "collapsed": false
   },
   "outputs": [],
   "source": [
    "import numpy as np\n",
    "import pandas as pd\n",
    "pd.set_option('display.max_columns', None)\n",
    "from datetime import datetime\n",
    "from datetime import timedelta\n",
    "from sklearn.grid_search import GridSearchCV\n",
    "\n",
    "import sys\n",
    "sys.path.append('/Users/drewrice/Desktop/Galvanize/Github/Galvanize-Final-Project/code')\n",
    "from return_low_no_suit_score import return_low_no_suit_score"
   ]
  },
  {
   "cell_type": "markdown",
   "metadata": {},
   "source": [
    "# Imports and feature selection"
   ]
  },
  {
   "cell_type": "code",
   "execution_count": 3,
   "metadata": {
    "collapsed": false
   },
   "outputs": [],
   "source": [
    "# using docs to model\n",
    "# labels come from claims data \n",
    "claims = pd.read_csv('/Users/drewrice/Desktop/capson_csv/Claims.csv')\n",
    "docs = pd.read_csv('/Users/drewrice/Desktop/capson_csv/ProviderInfo.csv')\n",
    "prems = pd.read_csv('/Users/drewrice/Desktop/capson_csv/ScheduleOfWrittenPremium.csv')\n",
    "debs_and_creds_full = pd.read_csv('/Users/drewrice/Desktop/capson_csv/ScheduleOfDebitsAndCredits.csv')\n",
    "policy = pd.read_csv('/Users/drewrice/Desktop/capson_csv/PolicyInfo.csv')"
   ]
  },
  {
   "cell_type": "code",
   "execution_count": 4,
   "metadata": {
    "collapsed": false
   },
   "outputs": [],
   "source": [
    "# drop non-essential columns\n",
    "# drop duplicates\n",
    "docs.drop(['Middle Name','Address 1', 'Address 2', 'Zip','Address Type','Practice Start Date'],axis=1,inplace=True)\n",
    "docs.drop_duplicates(inplace=True)"
   ]
  },
  {
   "cell_type": "code",
   "execution_count": 5,
   "metadata": {
    "collapsed": false
   },
   "outputs": [],
   "source": [
    "# grab essential columns for building classifier\n",
    "indem = claims[['Indemnity_Paid','ProviderId']]"
   ]
  },
  {
   "cell_type": "code",
   "execution_count": 6,
   "metadata": {
    "collapsed": false,
    "scrolled": true
   },
   "outputs": [],
   "source": [
    "# docs DF, conversion to string\n",
    "# lower ProviderId\n",
    "docs[['ProviderId','Last Name','First Name','Gender','City','State','County']] = \\\n",
    "docs[['ProviderId','Last Name','First Name','Gender','City','State','County']].astype(str)\n",
    "docs['ProviderId'] = docs['ProviderId'].map(lambda x: x if type(x)!=str else x.lower())"
   ]
  },
  {
   "cell_type": "code",
   "execution_count": 7,
   "metadata": {
    "collapsed": false
   },
   "outputs": [
    {
     "name": "stderr",
     "output_type": "stream",
     "text": [
      "/anaconda/lib/python2.7/site-packages/ipykernel/__main__.py:3: SettingWithCopyWarning: \n",
      "A value is trying to be set on a copy of a slice from a DataFrame.\n",
      "Try using .loc[row_indexer,col_indexer] = value instead\n",
      "\n",
      "See the caveats in the documentation: http://pandas.pydata.org/pandas-docs/stable/indexing.html#indexing-view-versus-copy\n",
      "  app.launch_new_instance()\n",
      "/anaconda/lib/python2.7/site-packages/ipykernel/__main__.py:4: SettingWithCopyWarning: \n",
      "A value is trying to be set on a copy of a slice from a DataFrame.\n",
      "Try using .loc[row_indexer,col_indexer] = value instead\n",
      "\n",
      "See the caveats in the documentation: http://pandas.pydata.org/pandas-docs/stable/indexing.html#indexing-view-versus-copy\n",
      "/anaconda/lib/python2.7/site-packages/ipykernel/__main__.py:5: SettingWithCopyWarning: \n",
      "A value is trying to be set on a copy of a slice from a DataFrame.\n",
      "Try using .loc[row_indexer,col_indexer] = value instead\n",
      "\n",
      "See the caveats in the documentation: http://pandas.pydata.org/pandas-docs/stable/indexing.html#indexing-view-versus-copy\n"
     ]
    }
   ],
   "source": [
    "# indem DF, conversions to string and float\n",
    "# lower ProviderId\n",
    "indem['Indemnity_Paid'] = indem['Indemnity_Paid'].str.replace(r'[$,]', '').astype('float')\n",
    "indem['ProviderId'] = indem['ProviderId'].astype(str)\n",
    "indem['ProviderId'] = indem['ProviderId'].str.lower()"
   ]
  },
  {
   "cell_type": "code",
   "execution_count": 8,
   "metadata": {
    "collapsed": true
   },
   "outputs": [],
   "source": [
    "# def build_classifier_label(item):\n",
    "#     if item == 0:\n",
    "#         return 'suit, no indem'\n",
    "#     if item != 0:\n",
    "#         return 'suit, indem'\n",
    "\n",
    "def build_classifier_label(item):\n",
    "    if item == 0:\n",
    "        return 1\n",
    "    if item != 0:\n",
    "        return 2"
   ]
  },
  {
   "cell_type": "code",
   "execution_count": 9,
   "metadata": {
    "collapsed": false
   },
   "outputs": [
    {
     "name": "stderr",
     "output_type": "stream",
     "text": [
      "/anaconda/lib/python2.7/site-packages/ipykernel/__main__.py:1: SettingWithCopyWarning: \n",
      "A value is trying to be set on a copy of a slice from a DataFrame.\n",
      "Try using .loc[row_indexer,col_indexer] = value instead\n",
      "\n",
      "See the caveats in the documentation: http://pandas.pydata.org/pandas-docs/stable/indexing.html#indexing-view-versus-copy\n",
      "  if __name__ == '__main__':\n"
     ]
    }
   ],
   "source": [
    "indem['indem_label'] = indem['Indemnity_Paid'].apply(lambda item: build_classifier_label(item))"
   ]
  },
  {
   "cell_type": "markdown",
   "metadata": {},
   "source": [
    "# Join docs and indemnity tables, fill NaNs with 'no suit'"
   ]
  },
  {
   "cell_type": "code",
   "execution_count": 10,
   "metadata": {
    "collapsed": false
   },
   "outputs": [],
   "source": [
    "joined = pd.merge(docs, indem[['ProviderId', 'indem_label']], how='left', on='ProviderId')\n",
    "joined.drop_duplicates(inplace=True)"
   ]
  },
  {
   "cell_type": "code",
   "execution_count": 11,
   "metadata": {
    "collapsed": true
   },
   "outputs": [],
   "source": [
    "# finish indemnity classifier\n",
    "# find NaNs in indem_label column, replace with 'no suit'\n",
    "def indem_label_no_suit(x):\n",
    "    if type(x) == np.float_: \n",
    "        if np.isnan(x): \n",
    "#             return 'no suit'\n",
    "            return 0\n",
    "        else:\n",
    "            return x"
   ]
  },
  {
   "cell_type": "code",
   "execution_count": 12,
   "metadata": {
    "collapsed": false,
    "scrolled": false
   },
   "outputs": [],
   "source": [
    "joined.indem_label = joined.indem_label.apply(lambda item: indem_label_no_suit(item))"
   ]
  },
  {
   "cell_type": "markdown",
   "metadata": {
    "collapsed": false
   },
   "source": [
    "# Claims data\n",
    "#### building classifiers for BoardCredit and ClaimsBand, then merging with joined"
   ]
  },
  {
   "cell_type": "code",
   "execution_count": 13,
   "metadata": {
    "collapsed": true
   },
   "outputs": [],
   "source": [
    "def build_classifier(item):\n",
    "    if item == 0:\n",
    "        return 0\n",
    "    if item != 0:\n",
    "        return 1"
   ]
  },
  {
   "cell_type": "code",
   "execution_count": 14,
   "metadata": {
    "collapsed": false,
    "scrolled": true
   },
   "outputs": [
    {
     "name": "stderr",
     "output_type": "stream",
     "text": [
      "/anaconda/lib/python2.7/site-packages/ipykernel/__main__.py:6: SettingWithCopyWarning: \n",
      "A value is trying to be set on a copy of a slice from a DataFrame.\n",
      "Try using .loc[row_indexer,col_indexer] = value instead\n",
      "\n",
      "See the caveats in the documentation: http://pandas.pydata.org/pandas-docs/stable/indexing.html#indexing-view-versus-copy\n"
     ]
    },
    {
     "data": {
      "text/html": [
       "<div>\n",
       "<table border=\"1\" class=\"dataframe\">\n",
       "  <thead>\n",
       "    <tr style=\"text-align: right;\">\n",
       "      <th></th>\n",
       "      <th>ProviderId</th>\n",
       "      <th>BoardCredit</th>\n",
       "      <th>ClaimsBand</th>\n",
       "      <th>Procedures</th>\n",
       "      <th>JCAHO</th>\n",
       "      <th>RecordKepping</th>\n",
       "    </tr>\n",
       "  </thead>\n",
       "  <tbody>\n",
       "    <tr>\n",
       "      <th>8458</th>\n",
       "      <td>19d9c4e6-e820-41c4-b398-134e6c0ba410</td>\n",
       "      <td>-55</td>\n",
       "      <td>-220</td>\n",
       "      <td>0</td>\n",
       "      <td>0</td>\n",
       "      <td>0</td>\n",
       "    </tr>\n",
       "    <tr>\n",
       "      <th>8459</th>\n",
       "      <td>6398eeea-10af-448f-bd10-364be1d0c90c</td>\n",
       "      <td>0</td>\n",
       "      <td>-8951</td>\n",
       "      <td>0</td>\n",
       "      <td>-2984</td>\n",
       "      <td>0</td>\n",
       "    </tr>\n",
       "    <tr>\n",
       "      <th>8460</th>\n",
       "      <td>d54c0b59-08e5-4ed7-ba5a-413b2016b269</td>\n",
       "      <td>-1366</td>\n",
       "      <td>0</td>\n",
       "      <td>0</td>\n",
       "      <td>-1366</td>\n",
       "      <td>-2733</td>\n",
       "    </tr>\n",
       "    <tr>\n",
       "      <th>8461</th>\n",
       "      <td>3eacedf6-9173-4a64-89c7-ba8b6e150850</td>\n",
       "      <td>-88</td>\n",
       "      <td>0</td>\n",
       "      <td>0</td>\n",
       "      <td>0</td>\n",
       "      <td>0</td>\n",
       "    </tr>\n",
       "    <tr>\n",
       "      <th>8462</th>\n",
       "      <td>ea83f592-67dd-46d5-b15c-9d0738f81c93</td>\n",
       "      <td>0</td>\n",
       "      <td>-258</td>\n",
       "      <td>0</td>\n",
       "      <td>0</td>\n",
       "      <td>0</td>\n",
       "    </tr>\n",
       "  </tbody>\n",
       "</table>\n",
       "</div>"
      ],
      "text/plain": [
       "                                ProviderId  BoardCredit  ClaimsBand  \\\n",
       "8458  19d9c4e6-e820-41c4-b398-134e6c0ba410          -55        -220   \n",
       "8459  6398eeea-10af-448f-bd10-364be1d0c90c            0       -8951   \n",
       "8460  d54c0b59-08e5-4ed7-ba5a-413b2016b269        -1366           0   \n",
       "8461  3eacedf6-9173-4a64-89c7-ba8b6e150850          -88           0   \n",
       "8462  ea83f592-67dd-46d5-b15c-9d0738f81c93            0        -258   \n",
       "\n",
       "      Procedures  JCAHO  RecordKepping  \n",
       "8458           0      0              0  \n",
       "8459           0  -2984              0  \n",
       "8460           0  -1366          -2733  \n",
       "8461           0      0              0  \n",
       "8462           0      0              0  "
      ]
     },
     "execution_count": 14,
     "metadata": {},
     "output_type": "execute_result"
    }
   ],
   "source": [
    "# resave debs_and_creds with just the desired columns\n",
    "# NOTE: typo 'RecordKepping'\n",
    "debs_and_creds = debs_and_creds_full[['ProviderId','BoardCredit','ClaimsBand','Procedures','JCAHO','RecordKepping']]\n",
    "\n",
    "# lower Provider Id\n",
    "debs_and_creds['ProviderId'] = debs_and_creds['ProviderId'].map(lambda x: x if type(x)!=str else x.lower())\n",
    "debs_and_creds.tail()"
   ]
  },
  {
   "cell_type": "code",
   "execution_count": 15,
   "metadata": {
    "collapsed": false,
    "scrolled": true
   },
   "outputs": [],
   "source": [
    "# group by Provider ID, resave debs_and_creds\n",
    "debs_and_creds = debs_and_creds.groupby(debs_and_creds['ProviderId']).sum()\n",
    "# reset index required\n",
    "debs_and_creds.reset_index(inplace=True)"
   ]
  },
  {
   "cell_type": "code",
   "execution_count": 16,
   "metadata": {
    "collapsed": false,
    "scrolled": true
   },
   "outputs": [],
   "source": [
    "# use build_classifier to create binary column from BoardCredit & ClaimsBand\n",
    "debs_and_creds['BoardCredit'] = debs_and_creds['BoardCredit'].apply(lambda item: build_classifier(item))\n",
    "debs_and_creds['ClaimsBand'] = debs_and_creds['ClaimsBand'].apply(lambda item: build_classifier(item))\n",
    "debs_and_creds['Procedures'] = debs_and_creds['Procedures'].apply(lambda item: build_classifier(item))\n",
    "debs_and_creds['JCAHO'] = debs_and_creds['JCAHO'].apply(lambda item: build_classifier(item))\n",
    "debs_and_creds['RecordKepping'] = debs_and_creds['RecordKepping'].apply(lambda item: build_classifier(item))"
   ]
  },
  {
   "cell_type": "code",
   "execution_count": 17,
   "metadata": {
    "collapsed": false,
    "scrolled": true
   },
   "outputs": [],
   "source": [
    "joined = pd.merge(joined, debs_and_creds, how='left', on='ProviderId')"
   ]
  },
  {
   "cell_type": "markdown",
   "metadata": {},
   "source": [
    "# EDA"
   ]
  },
  {
   "cell_type": "code",
   "execution_count": 18,
   "metadata": {
    "collapsed": false,
    "scrolled": false
   },
   "outputs": [
    {
     "name": "stdout",
     "output_type": "stream",
     "text": [
      "Doctors wih no suits:  6147\n",
      "Doctors with suits, no indemnity paid:  281\n",
      "Doctors with suits, indemnity paid:  41\n"
     ]
    },
    {
     "name": "stderr",
     "output_type": "stream",
     "text": [
      "/anaconda/lib/python2.7/site-packages/ipykernel/__main__.py:2: FutureWarning: sort(columns=....) is deprecated, use sort_values(by=.....)\n",
      "  from ipykernel import kernelapp as app\n",
      "/anaconda/lib/python2.7/site-packages/ipykernel/__main__.py:3: FutureWarning: sort(columns=....) is deprecated, use sort_values(by=.....)\n",
      "  app.launch_new_instance()\n",
      "/anaconda/lib/python2.7/site-packages/ipykernel/__main__.py:4: FutureWarning: sort(columns=....) is deprecated, use sort_values(by=.....)\n"
     ]
    }
   ],
   "source": [
    "# print num of doctors in each bucket, using the \n",
    "print 'Doctors wih no suits: ', joined[joined['indem_label'] == 0].sort(['Last Name']).shape[0]\n",
    "print 'Doctors with suits, no indemnity paid: ', joined[joined['indem_label'] == 1].sort(['Last Name']).shape[0]\n",
    "print 'Doctors with suits, indemnity paid: ', joined[joined['indem_label'] == 2].sort(['Last Name']).shape[0]"
   ]
  },
  {
   "cell_type": "markdown",
   "metadata": {},
   "source": [
    "# Feature engineering"
   ]
  },
  {
   "cell_type": "markdown",
   "metadata": {},
   "source": [
    "### ~ build age column ~"
   ]
  },
  {
   "cell_type": "code",
   "execution_count": 19,
   "metadata": {
    "collapsed": false
   },
   "outputs": [],
   "source": [
    "# convert DoB to datetime object\n",
    "joined['Date of Birth'] = pd.to_datetime(joined['Date of Birth'])"
   ]
  },
  {
   "cell_type": "code",
   "execution_count": 20,
   "metadata": {
    "collapsed": false,
    "scrolled": false
   },
   "outputs": [],
   "source": [
    "# time_delta function\n",
    "def time_delta(dt):\n",
    "    if dt.year > 2000:\n",
    "        dt = dt - timedelta(days=36525)\n",
    "    return dt"
   ]
  },
  {
   "cell_type": "code",
   "execution_count": 21,
   "metadata": {
    "collapsed": false
   },
   "outputs": [],
   "source": [
    "# apply time_delta function to DoB column, deal with datetime rounding to the 2000s\n",
    "joined['Date of Birth'] = joined['Date of Birth'].apply(lambda dt: time_delta(dt))"
   ]
  },
  {
   "cell_type": "code",
   "execution_count": 22,
   "metadata": {
    "collapsed": false
   },
   "outputs": [],
   "source": [
    "# fill missing values with 1/1/2060\n",
    "joined['Date of Birth'].fillna(datetime(2060, 1, 1, 0, 0),inplace=True)"
   ]
  },
  {
   "cell_type": "code",
   "execution_count": 23,
   "metadata": {
    "collapsed": false
   },
   "outputs": [],
   "source": [
    "# build age column\n",
    "now = datetime.now()\n",
    "joined['age'] = now - joined['Date of Birth']"
   ]
  },
  {
   "cell_type": "code",
   "execution_count": 24,
   "metadata": {
    "collapsed": false,
    "scrolled": true
   },
   "outputs": [],
   "source": [
    "# function to convert years into days\n",
    "def to_years(dt):\n",
    "    if dt:\n",
    "        dt = (dt.days) / 365.25\n",
    "    return dt"
   ]
  },
  {
   "cell_type": "code",
   "execution_count": 25,
   "metadata": {
    "collapsed": false,
    "scrolled": false
   },
   "outputs": [],
   "source": [
    "# apply to_years function to age column\n",
    "joined['age'] = (joined['age'].apply(lambda dt: to_years(dt))).round()"
   ]
  },
  {
   "cell_type": "code",
   "execution_count": 26,
   "metadata": {
    "collapsed": false,
    "scrolled": false
   },
   "outputs": [],
   "source": [
    "# refill Date of Birth with NaNs\n",
    "joined['Date of Birth'].replace(datetime(2060, 1, 1, 0, 0), np.nan, inplace=True)"
   ]
  },
  {
   "cell_type": "code",
   "execution_count": 27,
   "metadata": {
    "collapsed": false,
    "scrolled": false
   },
   "outputs": [],
   "source": [
    "def refill_age(x):\n",
    "    if x < 0:\n",
    "        x = np.nan\n",
    "    return x"
   ]
  },
  {
   "cell_type": "code",
   "execution_count": 28,
   "metadata": {
    "collapsed": true
   },
   "outputs": [],
   "source": [
    "# refill age with nan's for docs with missing birthdate\n",
    "joined['age'] = (joined['age'].apply(lambda dt: refill_age(dt))).round()"
   ]
  },
  {
   "cell_type": "code",
   "execution_count": 29,
   "metadata": {
    "collapsed": false,
    "scrolled": false
   },
   "outputs": [
    {
     "data": {
      "text/html": [
       "<div>\n",
       "<table border=\"1\" class=\"dataframe\">\n",
       "  <thead>\n",
       "    <tr style=\"text-align: right;\">\n",
       "      <th></th>\n",
       "      <th>indem_label</th>\n",
       "      <th>BoardCredit</th>\n",
       "      <th>ClaimsBand</th>\n",
       "      <th>Procedures</th>\n",
       "      <th>JCAHO</th>\n",
       "      <th>RecordKepping</th>\n",
       "      <th>age</th>\n",
       "    </tr>\n",
       "  </thead>\n",
       "  <tbody>\n",
       "    <tr>\n",
       "      <th>indem_label</th>\n",
       "      <td>1.000000</td>\n",
       "      <td>0.131730</td>\n",
       "      <td>0.114054</td>\n",
       "      <td>0.157412</td>\n",
       "      <td>0.191448</td>\n",
       "      <td>0.048830</td>\n",
       "      <td>0.113733</td>\n",
       "    </tr>\n",
       "    <tr>\n",
       "      <th>BoardCredit</th>\n",
       "      <td>0.131730</td>\n",
       "      <td>1.000000</td>\n",
       "      <td>0.525431</td>\n",
       "      <td>0.034711</td>\n",
       "      <td>0.434245</td>\n",
       "      <td>0.171050</td>\n",
       "      <td>0.109640</td>\n",
       "    </tr>\n",
       "    <tr>\n",
       "      <th>ClaimsBand</th>\n",
       "      <td>0.114054</td>\n",
       "      <td>0.525431</td>\n",
       "      <td>1.000000</td>\n",
       "      <td>0.055314</td>\n",
       "      <td>0.445487</td>\n",
       "      <td>0.224323</td>\n",
       "      <td>0.350799</td>\n",
       "    </tr>\n",
       "    <tr>\n",
       "      <th>Procedures</th>\n",
       "      <td>0.157412</td>\n",
       "      <td>0.034711</td>\n",
       "      <td>0.055314</td>\n",
       "      <td>1.000000</td>\n",
       "      <td>-0.001525</td>\n",
       "      <td>-0.032338</td>\n",
       "      <td>0.048758</td>\n",
       "    </tr>\n",
       "    <tr>\n",
       "      <th>JCAHO</th>\n",
       "      <td>0.191448</td>\n",
       "      <td>0.434245</td>\n",
       "      <td>0.445487</td>\n",
       "      <td>-0.001525</td>\n",
       "      <td>1.000000</td>\n",
       "      <td>0.269885</td>\n",
       "      <td>0.062611</td>\n",
       "    </tr>\n",
       "    <tr>\n",
       "      <th>RecordKepping</th>\n",
       "      <td>0.048830</td>\n",
       "      <td>0.171050</td>\n",
       "      <td>0.224323</td>\n",
       "      <td>-0.032338</td>\n",
       "      <td>0.269885</td>\n",
       "      <td>1.000000</td>\n",
       "      <td>0.003415</td>\n",
       "    </tr>\n",
       "    <tr>\n",
       "      <th>age</th>\n",
       "      <td>0.113733</td>\n",
       "      <td>0.109640</td>\n",
       "      <td>0.350799</td>\n",
       "      <td>0.048758</td>\n",
       "      <td>0.062611</td>\n",
       "      <td>0.003415</td>\n",
       "      <td>1.000000</td>\n",
       "    </tr>\n",
       "  </tbody>\n",
       "</table>\n",
       "</div>"
      ],
      "text/plain": [
       "               indem_label  BoardCredit  ClaimsBand  Procedures     JCAHO  \\\n",
       "indem_label       1.000000     0.131730    0.114054    0.157412  0.191448   \n",
       "BoardCredit       0.131730     1.000000    0.525431    0.034711  0.434245   \n",
       "ClaimsBand        0.114054     0.525431    1.000000    0.055314  0.445487   \n",
       "Procedures        0.157412     0.034711    0.055314    1.000000 -0.001525   \n",
       "JCAHO             0.191448     0.434245    0.445487   -0.001525  1.000000   \n",
       "RecordKepping     0.048830     0.171050    0.224323   -0.032338  0.269885   \n",
       "age               0.113733     0.109640    0.350799    0.048758  0.062611   \n",
       "\n",
       "               RecordKepping       age  \n",
       "indem_label         0.048830  0.113733  \n",
       "BoardCredit         0.171050  0.109640  \n",
       "ClaimsBand          0.224323  0.350799  \n",
       "Procedures         -0.032338  0.048758  \n",
       "JCAHO               0.269885  0.062611  \n",
       "RecordKepping       1.000000  0.003415  \n",
       "age                 0.003415  1.000000  "
      ]
     },
     "execution_count": 29,
     "metadata": {},
     "output_type": "execute_result"
    }
   ],
   "source": [
    "joined.corr()"
   ]
  },
  {
   "cell_type": "markdown",
   "metadata": {
    "collapsed": true
   },
   "source": [
    "# Basic model"
   ]
  },
  {
   "cell_type": "code",
   "execution_count": 30,
   "metadata": {
    "collapsed": true
   },
   "outputs": [],
   "source": [
    "from sklearn.ensemble import RandomForestClassifier\n",
    "from sklearn.cross_validation import train_test_split\n",
    "from sklearn.metrics import confusion_matrix"
   ]
  },
  {
   "cell_type": "code",
   "execution_count": 31,
   "metadata": {
    "collapsed": false,
    "scrolled": false
   },
   "outputs": [
    {
     "name": "stdout",
     "output_type": "stream",
     "text": [
      "2828 39 272\n"
     ]
    },
    {
     "name": "stderr",
     "output_type": "stream",
     "text": [
      "/anaconda/lib/python2.7/site-packages/ipykernel/__main__.py:7: SettingWithCopyWarning: \n",
      "A value is trying to be set on a copy of a slice from a DataFrame\n",
      "\n",
      "See the caveats in the documentation: http://pandas.pydata.org/pandas-docs/stable/indexing.html#indexing-view-versus-copy\n",
      "/anaconda/lib/python2.7/site-packages/ipykernel/__main__.py:8: SettingWithCopyWarning: \n",
      "A value is trying to be set on a copy of a slice from a DataFrame\n",
      "\n",
      "See the caveats in the documentation: http://pandas.pydata.org/pandas-docs/stable/indexing.html#indexing-view-versus-copy\n",
      "/anaconda/lib/python2.7/site-packages/ipykernel/__main__.py:9: SettingWithCopyWarning: \n",
      "A value is trying to be set on a copy of a slice from a DataFrame\n",
      "\n",
      "See the caveats in the documentation: http://pandas.pydata.org/pandas-docs/stable/indexing.html#indexing-view-versus-copy\n"
     ]
    }
   ],
   "source": [
    "# drop rows with any NaN values\n",
    "# not a long-term solution, but a quick and dirty model\n",
    "no_suit = joined[joined.indem_label == 0]\n",
    "suit_no_indem = joined[joined.indem_label == 1]\n",
    "suit_indem = joined[joined.indem_label == 2]\n",
    "\n",
    "no_suit.dropna(how='any', inplace=True)\n",
    "suit_no_indem.dropna(how='any', inplace=True)\n",
    "suit_indem.dropna(how='any', inplace=True)\n",
    "\n",
    "# print totals after NaN drop\n",
    "print no_suit.shape[0], suit_indem.shape[0], suit_no_indem.shape[0]\n",
    "\n",
    "# !\n",
    "# change values to 1 for binary classification\n",
    "# suit_indem['indem_label'] = 1\n",
    "\n",
    "# random sample from the three categories\n",
    "no_suit = no_suit.sample(600)\n",
    "suit_no_indem = suit_no_indem.sample(250)\n",
    "suit_indem = suit_indem.sample(39)"
   ]
  },
  {
   "cell_type": "code",
   "execution_count": 32,
   "metadata": {
    "collapsed": false,
    "scrolled": true
   },
   "outputs": [],
   "source": [
    "# combine random sample dataframes into concat_df\n",
    "concat_df = pd.concat([no_suit, suit_indem, suit_no_indem], axis=0)"
   ]
  },
  {
   "cell_type": "code",
   "execution_count": 33,
   "metadata": {
    "collapsed": false,
    "scrolled": false
   },
   "outputs": [],
   "source": [
    "# build label and feature dataframes\n",
    "y = concat_df.pop('indem_label')\n",
    "to_model = concat_df[['BoardCredit','ClaimsBand','Procedures','JCAHO','age','RecordKepping']]\n",
    "state = concat_df.pop('State')\n",
    "dummies = pd.get_dummies(state)\n",
    "to_model = pd.concat([to_model,dummies],axis=1)"
   ]
  },
  {
   "cell_type": "code",
   "execution_count": 34,
   "metadata": {
    "collapsed": false
   },
   "outputs": [],
   "source": [
    "# train / test split with random state\n",
    "X_train, X_test, y_train, y_test = train_test_split(to_model, y, test_size=0.10)"
   ]
  },
  {
   "cell_type": "code",
   "execution_count": 35,
   "metadata": {
    "collapsed": true
   },
   "outputs": [],
   "source": [
    "model = RandomForestClassifier(n_estimators=95,oob_score=True)"
   ]
  },
  {
   "cell_type": "code",
   "execution_count": 36,
   "metadata": {
    "collapsed": false
   },
   "outputs": [
    {
     "data": {
      "text/plain": [
       "0.63624999999999998"
      ]
     },
     "execution_count": 36,
     "metadata": {},
     "output_type": "execute_result"
    }
   ],
   "source": [
    "# fit, validate with OOB score\n",
    "model.fit(X_train,y_train)\n",
    "model.oob_score_"
   ]
  },
  {
   "cell_type": "code",
   "execution_count": 37,
   "metadata": {
    "collapsed": false
   },
   "outputs": [
    {
     "data": {
      "text/plain": [
       "0.5955056179775281"
      ]
     },
     "execution_count": 37,
     "metadata": {},
     "output_type": "execute_result"
    }
   ],
   "source": [
    "preds = model.predict(X_test)\n",
    "model.score(X_test, y_test)"
   ]
  },
  {
   "cell_type": "code",
   "execution_count": 38,
   "metadata": {
    "collapsed": false,
    "scrolled": true
   },
   "outputs": [
    {
     "data": {
      "text/plain": [
       "array([[41, 12,  0],\n",
       "       [20, 12,  1],\n",
       "       [ 2,  1,  0]])"
      ]
     },
     "execution_count": 38,
     "metadata": {},
     "output_type": "execute_result"
    }
   ],
   "source": [
    "confusion_matrix(y_test, preds)"
   ]
  },
  {
   "cell_type": "code",
   "execution_count": 39,
   "metadata": {
    "collapsed": false,
    "scrolled": true
   },
   "outputs": [
    {
     "data": {
      "text/plain": [
       "[([0, 0.3373, 0.6627, 0.0], 1.0),\n",
       " ([1, 0.6316, 0.3684, 0.0], 2.0),\n",
       " ([3, 0.0807, 0.9193, 0.0], 1.0),\n",
       " ([8, 0.7158, 0.2316, 0.0526], 0.0),\n",
       " ([10, 0.0333, 0.7956, 0.1711], 1.0),\n",
       " ([12, 0.6772, 0.2754, 0.0474], 0.0),\n",
       " ([13, 0.7263, 0.118, 0.1557], 1.0),\n",
       " ([14, 0.4105, 0.5895, 0.0], 0.0),\n",
       " ([16, 0.7596, 0.2404, 0.0], 1.0),\n",
       " ([17, 0.5271, 0.4158, 0.0571], 1.0),\n",
       " ([18, 0.1458, 0.7935, 0.0607], 1.0),\n",
       " ([21, 0.1616, 0.7725, 0.066], 0.0),\n",
       " ([22, 0.0123, 0.9877, 0.0], 0.0),\n",
       " ([24, 0.5263, 0.4737, 0.0], 0.0),\n",
       " ([25, 0.2105, 0.7789, 0.0105], 1.0),\n",
       " ([27, 0.7439, 0.1825, 0.0737], 0.0),\n",
       " ([31, 0.6632, 0.2421, 0.0947], 0.0),\n",
       " ([33, 0.7263, 0.2737, 0.0], 1.0),\n",
       " ([34, 0.1542, 0.8458, 0.0], 1.0),\n",
       " ([35, 0.5239, 0.4761, 0.0], 2.0),\n",
       " ([36, 0.4211, 0.4737, 0.1053], 1.0),\n",
       " ([38, 0.7073, 0.2927, 0.0], 1.0),\n",
       " ([41, 0.3579, 0.6316, 0.0105], 0.0),\n",
       " ([43, 0.6474, 0.2675, 0.0851], 1.0),\n",
       " ([44, 0.6825, 0.2694, 0.0481], 1.0),\n",
       " ([46, 0.7477, 0.2077, 0.0446], 0.0),\n",
       " ([48, 0.7833, 0.2167, 0.0], 0.0),\n",
       " ([49, 0.4594, 0.0, 0.5406], 1.0),\n",
       " ([51, 0.7474, 0.2526, 0.0], 1.0),\n",
       " ([52, 0.6947, 0.2526, 0.0526], 0.0),\n",
       " ([55, 0.2947, 0.7053, 0.0], 1.0),\n",
       " ([58, 0.4947, 0.5053, 0.0], 1.0),\n",
       " ([59, 0.3373, 0.6627, 0.0], 1.0),\n",
       " ([60, 0.5732, 0.1361, 0.2907], 0.0),\n",
       " ([61, 0.76, 0.1726, 0.0674], 0.0),\n",
       " ([65, 0.3105, 0.6789, 0.0105], 0.0),\n",
       " ([68, 0.4842, 0.4842, 0.0316], 1.0),\n",
       " ([69, 0.3393, 0.6607, 0.0], 0.0),\n",
       " ([71, 0.4211, 0.5789, 0.0], 0.0),\n",
       " ([72, 0.0842, 0.8518, 0.064], 0.0),\n",
       " ([74, 0.3579, 0.6167, 0.0254], 1.0),\n",
       " ([76, 0.7818, 0.2182, 0.0], 1.0),\n",
       " ([77, 0.5368, 0.3763, 0.0868], 1.0),\n",
       " ([78, 0.4105, 0.4798, 0.1096], 0.0),\n",
       " ([80, 0.4316, 0.5474, 0.0211], 1.0),\n",
       " ([81, 0.6737, 0.2363, 0.09], 0.0),\n",
       " ([82, 0.4756, 0.5165, 0.0079], 2.0),\n",
       " ([83, 0.6737, 0.2772, 0.0491], 1.0),\n",
       " ([85, 0.5908, 0.4092, 0.0], 1.0),\n",
       " ([86, 0.2211, 0.7789, 0.0], 0.0),\n",
       " ([87, 0.4105, 0.5895, 0.0], 0.0),\n",
       " ([88, 0.4532, 0.5468, 0.0], 0.0)]"
      ]
     },
     "execution_count": 39,
     "metadata": {},
     "output_type": "execute_result"
    }
   ],
   "source": [
    "# grab indices from return_low_no_suit_score FUNC\n",
    "low_no_suit_scores = return_low_no_suit_score(model,X_test)\n",
    "indices = [x[0] for x in low_no_suit_scores]\n",
    "\n",
    "# make y_test a list of values, from DataFrame\n",
    "y_actual_list = y_test.values.tolist()\n",
    "# take indices from return_low_no_suit_score FUNC\n",
    "y_actual_list_appropriate_indices = [y_actual_list[x] for x in indices]\n",
    "\n",
    "zip(low_no_suit_scores,y_actual_list_appropriate_indices)"
   ]
  },
  {
   "cell_type": "code",
   "execution_count": null,
   "metadata": {
    "collapsed": false
   },
   "outputs": [],
   "source": []
  },
  {
   "cell_type": "code",
   "execution_count": null,
   "metadata": {
    "collapsed": true
   },
   "outputs": [],
   "source": []
  },
  {
   "cell_type": "code",
   "execution_count": null,
   "metadata": {
    "collapsed": true
   },
   "outputs": [],
   "source": []
  },
  {
   "cell_type": "markdown",
   "metadata": {},
   "source": [
    "#### Gridsearching! "
   ]
  },
  {
   "cell_type": "code",
   "execution_count": 54,
   "metadata": {
    "collapsed": false,
    "scrolled": true
   },
   "outputs": [
    {
     "data": {
      "text/plain": [
       "GridSearchCV(cv=None, error_score='raise',\n",
       "       estimator=RandomForestClassifier(bootstrap=True, class_weight=None, criterion='gini',\n",
       "            max_depth=None, max_features='auto', max_leaf_nodes=None,\n",
       "            min_samples_leaf=1, min_samples_split=2,\n",
       "            min_weight_fraction_leaf=0.0, n_estimators=85, n_jobs=1,\n",
       "            oob_score=True, random_state=None, verbose=0, warm_start=False),\n",
       "       fit_params={}, iid=True, n_jobs=1,\n",
       "       param_grid={'n_estimators': [32, 64, 80, 85, 90, 95, 100, 120], 'max_depth': [2, 3, 4, 5, 6, 8, 16, 32]},\n",
       "       pre_dispatch='2*n_jobs', refit=True, scoring=None, verbose=0)"
      ]
     },
     "execution_count": 54,
     "metadata": {},
     "output_type": "execute_result"
    }
   ],
   "source": [
    "n_est_range = [32,64,80,85,90,95,100,120]\n",
    "m_range = [2,3,4,5,6,8,16,32]\n",
    "lrgs = GridSearchCV(estimator=model, param_grid=dict(n_estimators=n_est_range, max_depth=m_range), n_jobs=1)\n",
    "lrgs.fit(X_train,y_train)"
   ]
  },
  {
   "cell_type": "code",
   "execution_count": 55,
   "metadata": {
    "collapsed": false,
    "scrolled": true
   },
   "outputs": [
    {
     "name": "stdout",
     "output_type": "stream",
     "text": [
      "0.7\n",
      "RandomForestClassifier(bootstrap=True, class_weight=None, criterion='gini',\n",
      "            max_depth=5, max_features='auto', max_leaf_nodes=None,\n",
      "            min_samples_leaf=1, min_samples_split=2,\n",
      "            min_weight_fraction_leaf=0.0, n_estimators=95, n_jobs=1,\n",
      "            oob_score=True, random_state=None, verbose=0, warm_start=False)\n"
     ]
    }
   ],
   "source": [
    "print lrgs.best_score_\n",
    "print lrgs.best_estimator_"
   ]
  },
  {
   "cell_type": "code",
   "execution_count": null,
   "metadata": {
    "collapsed": true
   },
   "outputs": [],
   "source": []
  },
  {
   "cell_type": "code",
   "execution_count": null,
   "metadata": {
    "collapsed": true
   },
   "outputs": [],
   "source": []
  },
  {
   "cell_type": "code",
   "execution_count": null,
   "metadata": {
    "collapsed": true
   },
   "outputs": [],
   "source": []
  },
  {
   "cell_type": "code",
   "execution_count": null,
   "metadata": {
    "collapsed": true
   },
   "outputs": [],
   "source": []
  },
  {
   "cell_type": "code",
   "execution_count": null,
   "metadata": {
    "collapsed": true
   },
   "outputs": [],
   "source": []
  },
  {
   "cell_type": "code",
   "execution_count": 107,
   "metadata": {
    "collapsed": false
   },
   "outputs": [
    {
     "data": {
      "text/plain": [
       "(6469, 6)"
      ]
     },
     "execution_count": 107,
     "metadata": {},
     "output_type": "execute_result"
    }
   ],
   "source": [
    "docs_with_location = joined[['First Name', 'Last Name','indem_label','State','City','County']]\n",
    "docs_with_location.shape"
   ]
  },
  {
   "cell_type": "code",
   "execution_count": 108,
   "metadata": {
    "collapsed": false
   },
   "outputs": [
    {
     "name": "stderr",
     "output_type": "stream",
     "text": [
      "/anaconda/lib/python2.7/site-packages/ipykernel/__main__.py:2: SettingWithCopyWarning: \n",
      "A value is trying to be set on a copy of a slice from a DataFrame\n",
      "\n",
      "See the caveats in the documentation: http://pandas.pydata.org/pandas-docs/stable/indexing.html#indexing-view-versus-copy\n",
      "  from ipykernel import kernelapp as app\n"
     ]
    }
   ],
   "source": [
    "docs_with_location.drop_duplicates(inplace=True)\n",
    "docs_with_location.dropna(inplace=True)"
   ]
  },
  {
   "cell_type": "code",
   "execution_count": 109,
   "metadata": {
    "collapsed": false,
    "scrolled": true
   },
   "outputs": [
    {
     "data": {
      "text/plain": [
       "(4395, 5)"
      ]
     },
     "execution_count": 109,
     "metadata": {},
     "output_type": "execute_result"
    }
   ],
   "source": [
    "docs_with_location.pop('indem_label')\n",
    "docs_with_location.shape"
   ]
  },
  {
   "cell_type": "code",
   "execution_count": 110,
   "metadata": {
    "collapsed": false,
    "scrolled": true
   },
   "outputs": [],
   "source": [
    "docs_with_location = docs_with_location.query('State != \"nan\"')"
   ]
  },
  {
   "cell_type": "code",
   "execution_count": 111,
   "metadata": {
    "collapsed": false,
    "scrolled": true
   },
   "outputs": [],
   "source": [
    "docs_with_location.to_csv('docs')"
   ]
  },
  {
   "cell_type": "code",
   "execution_count": null,
   "metadata": {
    "collapsed": true
   },
   "outputs": [],
   "source": []
  }
 ],
 "metadata": {
  "kernelspec": {
   "display_name": "Python 2",
   "language": "python",
   "name": "python2"
  },
  "language_info": {
   "codemirror_mode": {
    "name": "ipython",
    "version": 2
   },
   "file_extension": ".py",
   "mimetype": "text/x-python",
   "name": "python",
   "nbconvert_exporter": "python",
   "pygments_lexer": "ipython2",
   "version": "2.7.11"
  }
 },
 "nbformat": 4,
 "nbformat_minor": 0
}
