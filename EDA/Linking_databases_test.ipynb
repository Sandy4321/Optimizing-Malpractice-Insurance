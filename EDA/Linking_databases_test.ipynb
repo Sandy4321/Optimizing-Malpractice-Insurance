{
 "cells": [
  {
   "cell_type": "code",
   "execution_count": 47,
   "metadata": {
    "collapsed": false
   },
   "outputs": [],
   "source": [
    "from sklearn.cross_validation import train_test_split\n",
    "from sklearn.metrics import confusion_matrix\n",
    "from sklearn.ensemble import RandomForestClassifier\n",
    "from sklearn.metrics import confusion_matrix\n",
    "import pandas as pd"
   ]
  },
  {
   "cell_type": "code",
   "execution_count": 33,
   "metadata": {
    "collapsed": false
   },
   "outputs": [],
   "source": [
    "joined = pd.read_csv('joined')"
   ]
  },
  {
   "cell_type": "code",
   "execution_count": 103,
   "metadata": {
    "collapsed": false,
    "scrolled": false
   },
   "outputs": [],
   "source": [
    "first_query = pd.read_csv('first_query.txt', header=None)\n",
    "first_query.rename(columns = {0:'First Name',1:'Last Name',2:'YearsOfExp', 3: 'State',4:'Zip',5:'Rating'},inplace=True)"
   ]
  },
  {
   "cell_type": "code",
   "execution_count": 35,
   "metadata": {
    "collapsed": false
   },
   "outputs": [],
   "source": [
    "merged = pd.merge(joined,first_query,on=['First Name','Last Name', 'State'], how='left')"
   ]
  },
  {
   "cell_type": "code",
   "execution_count": 36,
   "metadata": {
    "collapsed": false,
    "scrolled": false
   },
   "outputs": [],
   "source": [
    "merged['YearsOfExp'].fillna(0,inplace=True)\n",
    "merged['Rating'].fillna(0,inplace=True)"
   ]
  },
  {
   "cell_type": "code",
   "execution_count": 37,
   "metadata": {
    "collapsed": false
   },
   "outputs": [
    {
     "data": {
      "text/html": [
       "<div>\n",
       "<table border=\"1\" class=\"dataframe\">\n",
       "  <thead>\n",
       "    <tr style=\"text-align: right;\">\n",
       "      <th></th>\n",
       "      <th>indem_label</th>\n",
       "      <th>BoardCredit</th>\n",
       "      <th>ClaimsBand</th>\n",
       "      <th>Procedures</th>\n",
       "      <th>JCAHO</th>\n",
       "      <th>RecordKepping</th>\n",
       "      <th>age</th>\n",
       "      <th>YearsOfExp</th>\n",
       "      <th>Rating</th>\n",
       "    </tr>\n",
       "  </thead>\n",
       "  <tbody>\n",
       "    <tr>\n",
       "      <th>indem_label</th>\n",
       "      <td>1.000000</td>\n",
       "      <td>0.126012</td>\n",
       "      <td>0.107918</td>\n",
       "      <td>0.149956</td>\n",
       "      <td>0.184046</td>\n",
       "      <td>0.053250</td>\n",
       "      <td>0.104640</td>\n",
       "      <td>0.110566</td>\n",
       "      <td>0.130915</td>\n",
       "    </tr>\n",
       "    <tr>\n",
       "      <th>BoardCredit</th>\n",
       "      <td>0.126012</td>\n",
       "      <td>1.000000</td>\n",
       "      <td>0.505971</td>\n",
       "      <td>0.037929</td>\n",
       "      <td>0.420447</td>\n",
       "      <td>0.149109</td>\n",
       "      <td>0.096657</td>\n",
       "      <td>0.195741</td>\n",
       "      <td>0.236554</td>\n",
       "    </tr>\n",
       "    <tr>\n",
       "      <th>ClaimsBand</th>\n",
       "      <td>0.107918</td>\n",
       "      <td>0.505971</td>\n",
       "      <td>1.000000</td>\n",
       "      <td>0.073699</td>\n",
       "      <td>0.434657</td>\n",
       "      <td>0.216368</td>\n",
       "      <td>0.342873</td>\n",
       "      <td>0.319128</td>\n",
       "      <td>0.288525</td>\n",
       "    </tr>\n",
       "    <tr>\n",
       "      <th>Procedures</th>\n",
       "      <td>0.149956</td>\n",
       "      <td>0.037929</td>\n",
       "      <td>0.073699</td>\n",
       "      <td>1.000000</td>\n",
       "      <td>0.009102</td>\n",
       "      <td>-0.033182</td>\n",
       "      <td>0.040425</td>\n",
       "      <td>0.010883</td>\n",
       "      <td>0.012298</td>\n",
       "    </tr>\n",
       "    <tr>\n",
       "      <th>JCAHO</th>\n",
       "      <td>0.184046</td>\n",
       "      <td>0.420447</td>\n",
       "      <td>0.434657</td>\n",
       "      <td>0.009102</td>\n",
       "      <td>1.000000</td>\n",
       "      <td>0.251434</td>\n",
       "      <td>0.075669</td>\n",
       "      <td>0.172393</td>\n",
       "      <td>0.239804</td>\n",
       "    </tr>\n",
       "    <tr>\n",
       "      <th>RecordKepping</th>\n",
       "      <td>0.053250</td>\n",
       "      <td>0.149109</td>\n",
       "      <td>0.216368</td>\n",
       "      <td>-0.033182</td>\n",
       "      <td>0.251434</td>\n",
       "      <td>1.000000</td>\n",
       "      <td>0.003453</td>\n",
       "      <td>0.041939</td>\n",
       "      <td>0.140511</td>\n",
       "    </tr>\n",
       "    <tr>\n",
       "      <th>age</th>\n",
       "      <td>0.104640</td>\n",
       "      <td>0.096657</td>\n",
       "      <td>0.342873</td>\n",
       "      <td>0.040425</td>\n",
       "      <td>0.075669</td>\n",
       "      <td>0.003453</td>\n",
       "      <td>1.000000</td>\n",
       "      <td>0.453728</td>\n",
       "      <td>0.138201</td>\n",
       "    </tr>\n",
       "    <tr>\n",
       "      <th>YearsOfExp</th>\n",
       "      <td>0.110566</td>\n",
       "      <td>0.195741</td>\n",
       "      <td>0.319128</td>\n",
       "      <td>0.010883</td>\n",
       "      <td>0.172393</td>\n",
       "      <td>0.041939</td>\n",
       "      <td>0.453728</td>\n",
       "      <td>1.000000</td>\n",
       "      <td>0.544558</td>\n",
       "    </tr>\n",
       "    <tr>\n",
       "      <th>Rating</th>\n",
       "      <td>0.130915</td>\n",
       "      <td>0.236554</td>\n",
       "      <td>0.288525</td>\n",
       "      <td>0.012298</td>\n",
       "      <td>0.239804</td>\n",
       "      <td>0.140511</td>\n",
       "      <td>0.138201</td>\n",
       "      <td>0.544558</td>\n",
       "      <td>1.000000</td>\n",
       "    </tr>\n",
       "  </tbody>\n",
       "</table>\n",
       "</div>"
      ],
      "text/plain": [
       "               indem_label  BoardCredit  ClaimsBand  Procedures     JCAHO  \\\n",
       "indem_label       1.000000     0.126012    0.107918    0.149956  0.184046   \n",
       "BoardCredit       0.126012     1.000000    0.505971    0.037929  0.420447   \n",
       "ClaimsBand        0.107918     0.505971    1.000000    0.073699  0.434657   \n",
       "Procedures        0.149956     0.037929    0.073699    1.000000  0.009102   \n",
       "JCAHO             0.184046     0.420447    0.434657    0.009102  1.000000   \n",
       "RecordKepping     0.053250     0.149109    0.216368   -0.033182  0.251434   \n",
       "age               0.104640     0.096657    0.342873    0.040425  0.075669   \n",
       "YearsOfExp        0.110566     0.195741    0.319128    0.010883  0.172393   \n",
       "Rating            0.130915     0.236554    0.288525    0.012298  0.239804   \n",
       "\n",
       "               RecordKepping       age  YearsOfExp    Rating  \n",
       "indem_label         0.053250  0.104640    0.110566  0.130915  \n",
       "BoardCredit         0.149109  0.096657    0.195741  0.236554  \n",
       "ClaimsBand          0.216368  0.342873    0.319128  0.288525  \n",
       "Procedures         -0.033182  0.040425    0.010883  0.012298  \n",
       "JCAHO               0.251434  0.075669    0.172393  0.239804  \n",
       "RecordKepping       1.000000  0.003453    0.041939  0.140511  \n",
       "age                 0.003453  1.000000    0.453728  0.138201  \n",
       "YearsOfExp          0.041939  0.453728    1.000000  0.544558  \n",
       "Rating              0.140511  0.138201    0.544558  1.000000  "
      ]
     },
     "execution_count": 37,
     "metadata": {},
     "output_type": "execute_result"
    }
   ],
   "source": [
    "merged.drop('Unnamed: 0', axis=1, inplace=True)\n",
    "merged.corr()"
   ]
  },
  {
   "cell_type": "code",
   "execution_count": 75,
   "metadata": {
    "collapsed": false,
    "scrolled": true
   },
   "outputs": [
    {
     "name": "stdout",
     "output_type": "stream",
     "text": [
      "1205 24 164\n"
     ]
    },
    {
     "name": "stderr",
     "output_type": "stream",
     "text": [
      "/anaconda/lib/python2.7/site-packages/ipykernel/__main__.py:7: SettingWithCopyWarning: \n",
      "A value is trying to be set on a copy of a slice from a DataFrame\n",
      "\n",
      "See the caveats in the documentation: http://pandas.pydata.org/pandas-docs/stable/indexing.html#indexing-view-versus-copy\n",
      "/anaconda/lib/python2.7/site-packages/ipykernel/__main__.py:8: SettingWithCopyWarning: \n",
      "A value is trying to be set on a copy of a slice from a DataFrame\n",
      "\n",
      "See the caveats in the documentation: http://pandas.pydata.org/pandas-docs/stable/indexing.html#indexing-view-versus-copy\n",
      "/anaconda/lib/python2.7/site-packages/ipykernel/__main__.py:9: SettingWithCopyWarning: \n",
      "A value is trying to be set on a copy of a slice from a DataFrame\n",
      "\n",
      "See the caveats in the documentation: http://pandas.pydata.org/pandas-docs/stable/indexing.html#indexing-view-versus-copy\n"
     ]
    }
   ],
   "source": [
    "# drop rows with any NaN values\n",
    "# not a long-term solution, but a quick and dirty model\n",
    "no_suit = merged[merged.indem_label == 0]\n",
    "suit_no_indem = merged[merged.indem_label == 1]\n",
    "suit_indem = merged[merged.indem_label == 2]\n",
    "\n",
    "no_suit.dropna(how='any', inplace=True)\n",
    "suit_no_indem.dropna(how='any', inplace=True)\n",
    "suit_indem.dropna(how='any', inplace=True)\n",
    "\n",
    "# print totals after NaN drop\n",
    "print no_suit.shape[0], suit_indem.shape[0], suit_no_indem.shape[0]\n",
    "\n",
    "# !\n",
    "# change values to 1 for binary classification\n",
    "# suit_indem['indem_label'] = 1\n",
    "\n",
    "# random sample from the three categories\n",
    "no_suit = no_suit.sample(600)\n",
    "suit_no_indem = suit_no_indem.sample(164)\n",
    "suit_indem = suit_indem.sample(24)"
   ]
  },
  {
   "cell_type": "code",
   "execution_count": 76,
   "metadata": {
    "collapsed": false
   },
   "outputs": [],
   "source": [
    "# combine random sample dataframes into concat_df\n",
    "concat_df = pd.concat([no_suit, suit_indem, suit_no_indem], axis=0)"
   ]
  },
  {
   "cell_type": "code",
   "execution_count": null,
   "metadata": {
    "collapsed": true
   },
   "outputs": [],
   "source": [
    "# build label and feature dataframes\n",
    "y = concat_df.pop('indem_label')"
   ]
  },
  {
   "cell_type": "code",
   "execution_count": 93,
   "metadata": {
    "collapsed": false
   },
   "outputs": [],
   "source": [
    "to_model = concat_df[['YearsOfExp','Rating','BoardCredit','Procedures','JCAHO','age']]\n",
    "state = concat_df.pop('State')\n",
    "dummies = pd.get_dummies(state)\n",
    "to_model = pd.concat([to_model,dummies],axis=1)"
   ]
  },
  {
   "cell_type": "code",
   "execution_count": 94,
   "metadata": {
    "collapsed": false
   },
   "outputs": [],
   "source": [
    "# train / test split with random state\n",
    "X_train, X_test, y_train, y_test = train_test_split(to_model, y, test_size=0.20)"
   ]
  },
  {
   "cell_type": "code",
   "execution_count": 95,
   "metadata": {
    "collapsed": false
   },
   "outputs": [],
   "source": [
    "model = RandomForestClassifier(n_estimators=64,oob_score=True)"
   ]
  },
  {
   "cell_type": "code",
   "execution_count": 99,
   "metadata": {
    "collapsed": false
   },
   "outputs": [
    {
     "data": {
      "text/plain": [
       "0.76031746031746028"
      ]
     },
     "execution_count": 99,
     "metadata": {},
     "output_type": "execute_result"
    }
   ],
   "source": [
    "# fit, validate with OOB score\n",
    "model.fit(X_train,y_train)\n",
    "model.oob_score_"
   ]
  },
  {
   "cell_type": "code",
   "execution_count": 100,
   "metadata": {
    "collapsed": false
   },
   "outputs": [
    {
     "data": {
      "text/plain": [
       "0.69620253164556967"
      ]
     },
     "execution_count": 100,
     "metadata": {},
     "output_type": "execute_result"
    }
   ],
   "source": [
    "preds = model.predict(X_test)\n",
    "model.score(X_test, y_test)"
   ]
  },
  {
   "cell_type": "code",
   "execution_count": 101,
   "metadata": {
    "collapsed": false
   },
   "outputs": [
    {
     "data": {
      "text/plain": [
       "array([[106,   8,   0],\n",
       "       [ 34,   4,   1],\n",
       "       [  3,   2,   0]])"
      ]
     },
     "execution_count": 101,
     "metadata": {},
     "output_type": "execute_result"
    }
   ],
   "source": [
    "confusion_matrix(y_test, preds)"
   ]
  },
  {
   "cell_type": "code",
   "execution_count": 102,
   "metadata": {
    "collapsed": false
   },
   "outputs": [
    {
     "ename": "AttributeError",
     "evalue": "'numpy.ndarray' object has no attribute 'proba'",
     "output_type": "error",
     "traceback": [
      "\u001b[0;31m---------------------------------------------------------------------------\u001b[0m",
      "\u001b[0;31mAttributeError\u001b[0m                            Traceback (most recent call last)",
      "\u001b[0;32m<ipython-input-102-1fca4da28499>\u001b[0m in \u001b[0;36m<module>\u001b[0;34m()\u001b[0m\n\u001b[0;32m----> 1\u001b[0;31m \u001b[0mpreds\u001b[0m\u001b[0;34m.\u001b[0m\u001b[0mproba\u001b[0m\u001b[0;34m\u001b[0m\u001b[0m\n\u001b[0m",
      "\u001b[0;31mAttributeError\u001b[0m: 'numpy.ndarray' object has no attribute 'proba'"
     ]
    }
   ],
   "source": []
  },
  {
   "cell_type": "code",
   "execution_count": null,
   "metadata": {
    "collapsed": true
   },
   "outputs": [],
   "source": []
  }
 ],
 "metadata": {
  "kernelspec": {
   "display_name": "Python 2",
   "language": "python",
   "name": "python2"
  },
  "language_info": {
   "codemirror_mode": {
    "name": "ipython",
    "version": 2
   },
   "file_extension": ".py",
   "mimetype": "text/x-python",
   "name": "python",
   "nbconvert_exporter": "python",
   "pygments_lexer": "ipython2",
   "version": "2.7.11"
  }
 },
 "nbformat": 4,
 "nbformat_minor": 0
}
