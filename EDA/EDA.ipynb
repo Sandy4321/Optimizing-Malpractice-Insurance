{
 "cells": [
  {
   "cell_type": "code",
   "execution_count": 1,
   "metadata": {
    "collapsed": false
   },
   "outputs": [],
   "source": [
    "import numpy as np\n",
    "import pandas as pd\n",
    "pd.set_option('display.max_columns', None)\n",
    "from datetime import datetime\n",
    "from datetime import timedelta\n",
    "from sklearn.grid_search import GridSearchCV\n",
    "\n",
    "import sys\n",
    "sys.path.append('/Users/drewrice/Desktop/Github/Optimizing-Malpractice-Insurance/code')\n",
    "from return_low_no_suit_score import return_low_no_suit_score\n",
    "from return_probability_scores import return_probability_scores"
   ]
  },
  {
   "cell_type": "markdown",
   "metadata": {},
   "source": [
    "# Imports and feature selection"
   ]
  },
  {
   "cell_type": "code",
   "execution_count": 7,
   "metadata": {
    "collapsed": false
   },
   "outputs": [],
   "source": [
    "# using docs to model\n",
    "# labels come from claims data \n",
    "claims = pd.read_csv('/Users/drewrice/Desktop/capson_csv/Claims.csv')\n",
    "docs = pd.read_csv('/Users/drewrice/Desktop/capson_csv/ProviderInfo.csv')\n",
    "prems = pd.read_csv('/Users/drewrice/Desktop/capson_csv/ScheduleOfWrittenPremium.csv')\n",
    "debs_and_creds_full = pd.read_csv('/Users/drewrice/Desktop/capson_csv/ScheduleOfDebitsAndCredits.csv')\n",
    "policy = pd.read_csv('/Users/drewrice/Desktop/capson_csv/PolicyInfo.csv')"
   ]
  },
  {
   "cell_type": "code",
   "execution_count": 8,
   "metadata": {
    "collapsed": false
   },
   "outputs": [
    {
     "data": {
      "text/plain": [
       "(7252, 14)"
      ]
     },
     "execution_count": 8,
     "metadata": {},
     "output_type": "execute_result"
    }
   ],
   "source": [
    "docs.shape"
   ]
  },
  {
   "cell_type": "code",
   "execution_count": 9,
   "metadata": {
    "collapsed": false
   },
   "outputs": [],
   "source": [
    "# drop non-essential columns\n",
    "# drop duplicates\n",
    "docs.drop(['Address 1', 'Address 2', 'Zip','Address Type','Practice Start Date'],axis=1,inplace=True)\n",
    "docs.drop_duplicates(inplace=True)"
   ]
  },
  {
   "cell_type": "code",
   "execution_count": 10,
   "metadata": {
    "collapsed": false
   },
   "outputs": [],
   "source": [
    "# grab essential columns for building classifier\n",
    "indem = claims[['Indemnity_Paid','ProviderId']]"
   ]
  },
  {
   "cell_type": "code",
   "execution_count": 12,
   "metadata": {
    "collapsed": false,
    "scrolled": true
   },
   "outputs": [],
   "source": [
    "# docs DF, conversion to string\n",
    "# lower ProviderId\n",
    "docs[['ProviderId','Last Name','Middle Name','First Name','Gender','City','State','County']] = \\\n",
    "docs[['ProviderId','Last Name','Middle Name','First Name','Gender','City','State','County']].astype(str)\n",
    "docs['ProviderId'] = docs['ProviderId'].map(lambda x: x if type(x)!=str else x.lower())"
   ]
  },
  {
   "cell_type": "code",
   "execution_count": 13,
   "metadata": {
    "collapsed": false
   },
   "outputs": [
    {
     "name": "stderr",
     "output_type": "stream",
     "text": [
      "/anaconda/lib/python2.7/site-packages/ipykernel/__main__.py:3: SettingWithCopyWarning: \n",
      "A value is trying to be set on a copy of a slice from a DataFrame.\n",
      "Try using .loc[row_indexer,col_indexer] = value instead\n",
      "\n",
      "See the caveats in the documentation: http://pandas.pydata.org/pandas-docs/stable/indexing.html#indexing-view-versus-copy\n",
      "  app.launch_new_instance()\n",
      "/anaconda/lib/python2.7/site-packages/ipykernel/__main__.py:4: SettingWithCopyWarning: \n",
      "A value is trying to be set on a copy of a slice from a DataFrame.\n",
      "Try using .loc[row_indexer,col_indexer] = value instead\n",
      "\n",
      "See the caveats in the documentation: http://pandas.pydata.org/pandas-docs/stable/indexing.html#indexing-view-versus-copy\n",
      "/anaconda/lib/python2.7/site-packages/ipykernel/__main__.py:5: SettingWithCopyWarning: \n",
      "A value is trying to be set on a copy of a slice from a DataFrame.\n",
      "Try using .loc[row_indexer,col_indexer] = value instead\n",
      "\n",
      "See the caveats in the documentation: http://pandas.pydata.org/pandas-docs/stable/indexing.html#indexing-view-versus-copy\n"
     ]
    }
   ],
   "source": [
    "# indem DF, conversions to string and float\n",
    "# lower ProviderId\n",
    "indem['Indemnity_Paid'] = indem['Indemnity_Paid'].str.replace(r'[$,]', '').astype('float')\n",
    "indem['ProviderId'] = indem['ProviderId'].astype(str)\n",
    "indem['ProviderId'] = indem['ProviderId'].str.lower()"
   ]
  },
  {
   "cell_type": "code",
   "execution_count": 14,
   "metadata": {
    "collapsed": true
   },
   "outputs": [],
   "source": [
    "# def build_classifier_label(item):\n",
    "#     if item == 0:\n",
    "#         return 'suit, no indem'\n",
    "#     if item != 0:\n",
    "#         return 'suit, indem'\n",
    "\n",
    "def build_classifier_label(item):\n",
    "    if item == 0:\n",
    "        return 1\n",
    "    if item != 0:\n",
    "        return 2"
   ]
  },
  {
   "cell_type": "code",
   "execution_count": 15,
   "metadata": {
    "collapsed": false
   },
   "outputs": [
    {
     "name": "stderr",
     "output_type": "stream",
     "text": [
      "/anaconda/lib/python2.7/site-packages/ipykernel/__main__.py:1: SettingWithCopyWarning: \n",
      "A value is trying to be set on a copy of a slice from a DataFrame.\n",
      "Try using .loc[row_indexer,col_indexer] = value instead\n",
      "\n",
      "See the caveats in the documentation: http://pandas.pydata.org/pandas-docs/stable/indexing.html#indexing-view-versus-copy\n",
      "  if __name__ == '__main__':\n"
     ]
    }
   ],
   "source": [
    "indem['indem_label'] = indem['Indemnity_Paid'].apply(lambda item: build_classifier_label(item))"
   ]
  },
  {
   "cell_type": "markdown",
   "metadata": {},
   "source": [
    "# Join docs and indemnity tables, fill NaNs with 'no suit'"
   ]
  },
  {
   "cell_type": "code",
   "execution_count": 18,
   "metadata": {
    "collapsed": false
   },
   "outputs": [],
   "source": [
    "joined = pd.merge(docs, indem[['ProviderId', 'indem_label']], how='left', on='ProviderId')\n",
    "joined.drop_duplicates(inplace=True)"
   ]
  },
  {
   "cell_type": "code",
   "execution_count": 19,
   "metadata": {
    "collapsed": true
   },
   "outputs": [],
   "source": [
    "# finish indemnity classifier\n",
    "# find NaNs in indem_label column, replace with 'no suit'\n",
    "def indem_label_no_suit(x):\n",
    "    if type(x) == np.float_: \n",
    "        if np.isnan(x): \n",
    "#             return 'no suit'\n",
    "            return 0\n",
    "        else:\n",
    "            return x"
   ]
  },
  {
   "cell_type": "code",
   "execution_count": 20,
   "metadata": {
    "collapsed": false,
    "scrolled": false
   },
   "outputs": [],
   "source": [
    "joined.indem_label = joined.indem_label.apply(lambda item: indem_label_no_suit(item))"
   ]
  },
  {
   "cell_type": "markdown",
   "metadata": {
    "collapsed": false
   },
   "source": [
    "# Claims data\n",
    "#### building classifiers for BoardCredit and ClaimsBand, then merging with joined"
   ]
  },
  {
   "cell_type": "code",
   "execution_count": 431,
   "metadata": {
    "collapsed": true
   },
   "outputs": [],
   "source": [
    "def build_classifier(item):\n",
    "    if item == 0:\n",
    "        return 0\n",
    "    if item < 0:\n",
    "        return 1\n",
    "    if item > 0:\n",
    "        return 2"
   ]
  },
  {
   "cell_type": "code",
   "execution_count": 432,
   "metadata": {
    "collapsed": false,
    "scrolled": true
   },
   "outputs": [
    {
     "name": "stderr",
     "output_type": "stream",
     "text": [
      "/anaconda/lib/python2.7/site-packages/ipykernel/__main__.py:6: SettingWithCopyWarning: \n",
      "A value is trying to be set on a copy of a slice from a DataFrame.\n",
      "Try using .loc[row_indexer,col_indexer] = value instead\n",
      "\n",
      "See the caveats in the documentation: http://pandas.pydata.org/pandas-docs/stable/indexing.html#indexing-view-versus-copy\n"
     ]
    },
    {
     "data": {
      "text/html": [
       "<div>\n",
       "<table border=\"1\" class=\"dataframe\">\n",
       "  <thead>\n",
       "    <tr style=\"text-align: right;\">\n",
       "      <th></th>\n",
       "      <th>ProviderId</th>\n",
       "      <th>BoardCredit</th>\n",
       "      <th>ClaimsBand</th>\n",
       "      <th>Procedures</th>\n",
       "      <th>JCAHO</th>\n",
       "      <th>RecordKepping</th>\n",
       "    </tr>\n",
       "  </thead>\n",
       "  <tbody>\n",
       "    <tr>\n",
       "      <th>8458</th>\n",
       "      <td>19d9c4e6-e820-41c4-b398-134e6c0ba410</td>\n",
       "      <td>-55</td>\n",
       "      <td>-220</td>\n",
       "      <td>0</td>\n",
       "      <td>0</td>\n",
       "      <td>0</td>\n",
       "    </tr>\n",
       "    <tr>\n",
       "      <th>8459</th>\n",
       "      <td>6398eeea-10af-448f-bd10-364be1d0c90c</td>\n",
       "      <td>0</td>\n",
       "      <td>-8951</td>\n",
       "      <td>0</td>\n",
       "      <td>-2984</td>\n",
       "      <td>0</td>\n",
       "    </tr>\n",
       "    <tr>\n",
       "      <th>8460</th>\n",
       "      <td>d54c0b59-08e5-4ed7-ba5a-413b2016b269</td>\n",
       "      <td>-1366</td>\n",
       "      <td>0</td>\n",
       "      <td>0</td>\n",
       "      <td>-1366</td>\n",
       "      <td>-2733</td>\n",
       "    </tr>\n",
       "    <tr>\n",
       "      <th>8461</th>\n",
       "      <td>3eacedf6-9173-4a64-89c7-ba8b6e150850</td>\n",
       "      <td>-88</td>\n",
       "      <td>0</td>\n",
       "      <td>0</td>\n",
       "      <td>0</td>\n",
       "      <td>0</td>\n",
       "    </tr>\n",
       "    <tr>\n",
       "      <th>8462</th>\n",
       "      <td>ea83f592-67dd-46d5-b15c-9d0738f81c93</td>\n",
       "      <td>0</td>\n",
       "      <td>-258</td>\n",
       "      <td>0</td>\n",
       "      <td>0</td>\n",
       "      <td>0</td>\n",
       "    </tr>\n",
       "  </tbody>\n",
       "</table>\n",
       "</div>"
      ],
      "text/plain": [
       "                                ProviderId  BoardCredit  ClaimsBand  \\\n",
       "8458  19d9c4e6-e820-41c4-b398-134e6c0ba410          -55        -220   \n",
       "8459  6398eeea-10af-448f-bd10-364be1d0c90c            0       -8951   \n",
       "8460  d54c0b59-08e5-4ed7-ba5a-413b2016b269        -1366           0   \n",
       "8461  3eacedf6-9173-4a64-89c7-ba8b6e150850          -88           0   \n",
       "8462  ea83f592-67dd-46d5-b15c-9d0738f81c93            0        -258   \n",
       "\n",
       "      Procedures  JCAHO  RecordKepping  \n",
       "8458           0      0              0  \n",
       "8459           0  -2984              0  \n",
       "8460           0  -1366          -2733  \n",
       "8461           0      0              0  \n",
       "8462           0      0              0  "
      ]
     },
     "execution_count": 432,
     "metadata": {},
     "output_type": "execute_result"
    }
   ],
   "source": [
    "# resave debs_and_creds with just the desired columns\n",
    "# NOTE: typo 'RecordKepping'\n",
    "debs_and_creds = debs_and_creds_full[['ProviderId','BoardCredit','ClaimsBand','Procedures','JCAHO','RecordKepping']]\n",
    "\n",
    "# lower Provider Id\n",
    "debs_and_creds['ProviderId'] = debs_and_creds['ProviderId'].map(lambda x: x if type(x)!=str else x.lower())\n",
    "debs_and_creds.tail()"
   ]
  },
  {
   "cell_type": "code",
   "execution_count": 433,
   "metadata": {
    "collapsed": false,
    "scrolled": true
   },
   "outputs": [],
   "source": [
    "# group by Provider ID, resave debs_and_creds\n",
    "debs_and_creds = debs_and_creds.groupby(debs_and_creds['ProviderId']).sum()\n",
    "# reset index required\n",
    "debs_and_creds.reset_index(inplace=True)"
   ]
  },
  {
   "cell_type": "code",
   "execution_count": 434,
   "metadata": {
    "collapsed": false,
    "scrolled": true
   },
   "outputs": [],
   "source": [
    "# use build_classifier to create binary column from BoardCredit & ClaimsBand\n",
    "debs_and_creds['BoardCredit'] = debs_and_creds['BoardCredit'].apply(lambda item: build_classifier(item))\n",
    "debs_and_creds['ClaimsBand'] = debs_and_creds['ClaimsBand'].apply(lambda item: build_classifier(item))\n",
    "debs_and_creds['Procedures'] = debs_and_creds['Procedures'].apply(lambda item: build_classifier(item))\n",
    "debs_and_creds['JCAHO'] = debs_and_creds['JCAHO'].apply(lambda item: build_classifier(item))\n",
    "debs_and_creds['RecordKepping'] = debs_and_creds['RecordKepping'].apply(lambda item: build_classifier(item))"
   ]
  },
  {
   "cell_type": "markdown",
   "metadata": {},
   "source": [
    "# Build 'joined'"
   ]
  },
  {
   "cell_type": "code",
   "execution_count": 435,
   "metadata": {
    "collapsed": false,
    "scrolled": true
   },
   "outputs": [],
   "source": [
    "joined = pd.merge(joined, debs_and_creds, how='left', on='ProviderId')"
   ]
  },
  {
   "cell_type": "markdown",
   "metadata": {},
   "source": [
    "# EDA"
   ]
  },
  {
   "cell_type": "code",
   "execution_count": 436,
   "metadata": {
    "collapsed": false,
    "scrolled": false
   },
   "outputs": [
    {
     "name": "stdout",
     "output_type": "stream",
     "text": [
      "Doctors wih no suits:  6147\n",
      "Doctors with suits, no indemnity paid:  281\n",
      "Doctors with suits, indemnity paid:  41\n"
     ]
    },
    {
     "name": "stderr",
     "output_type": "stream",
     "text": [
      "/anaconda/lib/python2.7/site-packages/ipykernel/__main__.py:2: FutureWarning: sort(columns=....) is deprecated, use sort_values(by=.....)\n",
      "  from ipykernel import kernelapp as app\n",
      "/anaconda/lib/python2.7/site-packages/ipykernel/__main__.py:3: FutureWarning: sort(columns=....) is deprecated, use sort_values(by=.....)\n",
      "  app.launch_new_instance()\n",
      "/anaconda/lib/python2.7/site-packages/ipykernel/__main__.py:4: FutureWarning: sort(columns=....) is deprecated, use sort_values(by=.....)\n"
     ]
    }
   ],
   "source": [
    "# print num of doctors in each bucket, using the \n",
    "print 'Doctors wih no suits: ', joined[joined['indem_label'] == 0].sort(['Last Name']).shape[0]\n",
    "print 'Doctors with suits, no indemnity paid: ', joined[joined['indem_label'] == 1].sort(['Last Name']).shape[0]\n",
    "print 'Doctors with suits, indemnity paid: ', joined[joined['indem_label'] == 2].sort(['Last Name']).shape[0]"
   ]
  },
  {
   "cell_type": "markdown",
   "metadata": {},
   "source": [
    "# Feature engineering"
   ]
  },
  {
   "cell_type": "markdown",
   "metadata": {},
   "source": [
    "### ~ build age column ~"
   ]
  },
  {
   "cell_type": "code",
   "execution_count": 437,
   "metadata": {
    "collapsed": false
   },
   "outputs": [],
   "source": [
    "# convert DoB to datetime object\n",
    "joined['Date of Birth'] = pd.to_datetime(joined['Date of Birth'])"
   ]
  },
  {
   "cell_type": "code",
   "execution_count": 438,
   "metadata": {
    "collapsed": false,
    "scrolled": false
   },
   "outputs": [],
   "source": [
    "# time_delta function\n",
    "def time_delta(dt):\n",
    "    if dt.year > 2000:\n",
    "        dt = dt - timedelta(days=36525)\n",
    "    return dt"
   ]
  },
  {
   "cell_type": "code",
   "execution_count": 439,
   "metadata": {
    "collapsed": false
   },
   "outputs": [],
   "source": [
    "# apply time_delta function to DoB column, deal with datetime rounding to the 2000s\n",
    "joined['Date of Birth'] = joined['Date of Birth'].apply(lambda dt: time_delta(dt))"
   ]
  },
  {
   "cell_type": "code",
   "execution_count": 440,
   "metadata": {
    "collapsed": false
   },
   "outputs": [],
   "source": [
    "# fill missing values with 1/1/2060\n",
    "joined['Date of Birth'].fillna(datetime(2060, 1, 1, 0, 0),inplace=True)"
   ]
  },
  {
   "cell_type": "code",
   "execution_count": 441,
   "metadata": {
    "collapsed": false
   },
   "outputs": [],
   "source": [
    "# build age column\n",
    "now = datetime.now()\n",
    "joined['age'] = now - joined['Date of Birth']"
   ]
  },
  {
   "cell_type": "code",
   "execution_count": 442,
   "metadata": {
    "collapsed": false,
    "scrolled": true
   },
   "outputs": [],
   "source": [
    "# function to convert years into days\n",
    "def to_years(dt):\n",
    "    if dt:\n",
    "        dt = (dt.days) / 365.25\n",
    "    return dt"
   ]
  },
  {
   "cell_type": "code",
   "execution_count": 443,
   "metadata": {
    "collapsed": false,
    "scrolled": false
   },
   "outputs": [],
   "source": [
    "# apply to_years function to age column\n",
    "joined['age'] = (joined['age'].apply(lambda dt: to_years(dt))).round()"
   ]
  },
  {
   "cell_type": "code",
   "execution_count": 444,
   "metadata": {
    "collapsed": false,
    "scrolled": false
   },
   "outputs": [],
   "source": [
    "# refill Date of Birth with NaNs\n",
    "joined['Date of Birth'].replace(datetime(2060, 1, 1, 0, 0), np.nan, inplace=True)"
   ]
  },
  {
   "cell_type": "code",
   "execution_count": 445,
   "metadata": {
    "collapsed": false,
    "scrolled": false
   },
   "outputs": [],
   "source": [
    "def refill_age(x):\n",
    "    if x < 0:\n",
    "        x = np.nan\n",
    "    return x"
   ]
  },
  {
   "cell_type": "code",
   "execution_count": 446,
   "metadata": {
    "collapsed": true
   },
   "outputs": [],
   "source": [
    "# refill age with nan's for docs with missing birthdate\n",
    "joined['age'] = (joined['age'].apply(lambda dt: refill_age(dt))).round()"
   ]
  },
  {
   "cell_type": "code",
   "execution_count": 447,
   "metadata": {
    "collapsed": false,
    "scrolled": true
   },
   "outputs": [
    {
     "data": {
      "text/html": [
       "<div>\n",
       "<table border=\"1\" class=\"dataframe\">\n",
       "  <thead>\n",
       "    <tr style=\"text-align: right;\">\n",
       "      <th></th>\n",
       "      <th>indem_label</th>\n",
       "      <th>BoardCredit</th>\n",
       "      <th>ClaimsBand</th>\n",
       "      <th>Procedures</th>\n",
       "      <th>JCAHO</th>\n",
       "      <th>RecordKepping</th>\n",
       "      <th>age</th>\n",
       "    </tr>\n",
       "  </thead>\n",
       "  <tbody>\n",
       "    <tr>\n",
       "      <th>indem_label</th>\n",
       "      <td>1.000000</td>\n",
       "      <td>0.131730</td>\n",
       "      <td>0.114054</td>\n",
       "      <td>0.166064</td>\n",
       "      <td>0.191448</td>\n",
       "      <td>0.047917</td>\n",
       "      <td>0.113401</td>\n",
       "    </tr>\n",
       "    <tr>\n",
       "      <th>BoardCredit</th>\n",
       "      <td>0.131730</td>\n",
       "      <td>1.000000</td>\n",
       "      <td>0.525431</td>\n",
       "      <td>0.036848</td>\n",
       "      <td>0.434245</td>\n",
       "      <td>0.169449</td>\n",
       "      <td>0.109200</td>\n",
       "    </tr>\n",
       "    <tr>\n",
       "      <th>ClaimsBand</th>\n",
       "      <td>0.114054</td>\n",
       "      <td>0.525431</td>\n",
       "      <td>1.000000</td>\n",
       "      <td>0.059640</td>\n",
       "      <td>0.445487</td>\n",
       "      <td>0.222128</td>\n",
       "      <td>0.350540</td>\n",
       "    </tr>\n",
       "    <tr>\n",
       "      <th>Procedures</th>\n",
       "      <td>0.166064</td>\n",
       "      <td>0.036848</td>\n",
       "      <td>0.059640</td>\n",
       "      <td>1.000000</td>\n",
       "      <td>0.005590</td>\n",
       "      <td>-0.039285</td>\n",
       "      <td>0.043749</td>\n",
       "    </tr>\n",
       "    <tr>\n",
       "      <th>JCAHO</th>\n",
       "      <td>0.191448</td>\n",
       "      <td>0.434245</td>\n",
       "      <td>0.445487</td>\n",
       "      <td>0.005590</td>\n",
       "      <td>1.000000</td>\n",
       "      <td>0.268122</td>\n",
       "      <td>0.062666</td>\n",
       "    </tr>\n",
       "    <tr>\n",
       "      <th>RecordKepping</th>\n",
       "      <td>0.047917</td>\n",
       "      <td>0.169449</td>\n",
       "      <td>0.222128</td>\n",
       "      <td>-0.039285</td>\n",
       "      <td>0.268122</td>\n",
       "      <td>1.000000</td>\n",
       "      <td>0.004203</td>\n",
       "    </tr>\n",
       "    <tr>\n",
       "      <th>age</th>\n",
       "      <td>0.113401</td>\n",
       "      <td>0.109200</td>\n",
       "      <td>0.350540</td>\n",
       "      <td>0.043749</td>\n",
       "      <td>0.062666</td>\n",
       "      <td>0.004203</td>\n",
       "      <td>1.000000</td>\n",
       "    </tr>\n",
       "  </tbody>\n",
       "</table>\n",
       "</div>"
      ],
      "text/plain": [
       "               indem_label  BoardCredit  ClaimsBand  Procedures     JCAHO  \\\n",
       "indem_label       1.000000     0.131730    0.114054    0.166064  0.191448   \n",
       "BoardCredit       0.131730     1.000000    0.525431    0.036848  0.434245   \n",
       "ClaimsBand        0.114054     0.525431    1.000000    0.059640  0.445487   \n",
       "Procedures        0.166064     0.036848    0.059640    1.000000  0.005590   \n",
       "JCAHO             0.191448     0.434245    0.445487    0.005590  1.000000   \n",
       "RecordKepping     0.047917     0.169449    0.222128   -0.039285  0.268122   \n",
       "age               0.113401     0.109200    0.350540    0.043749  0.062666   \n",
       "\n",
       "               RecordKepping       age  \n",
       "indem_label         0.047917  0.113401  \n",
       "BoardCredit         0.169449  0.109200  \n",
       "ClaimsBand          0.222128  0.350540  \n",
       "Procedures         -0.039285  0.043749  \n",
       "JCAHO               0.268122  0.062666  \n",
       "RecordKepping       1.000000  0.004203  \n",
       "age                 0.004203  1.000000  "
      ]
     },
     "execution_count": 447,
     "metadata": {},
     "output_type": "execute_result"
    }
   ],
   "source": [
    "joined.corr()"
   ]
  },
  {
   "cell_type": "code",
   "execution_count": 448,
   "metadata": {
    "collapsed": false
   },
   "outputs": [
    {
     "data": {
      "text/plain": [
       "(2813, 15)"
      ]
     },
     "execution_count": 448,
     "metadata": {},
     "output_type": "execute_result"
    }
   ],
   "source": [
    "joined.dropna(how='any', inplace=True)\n",
    "joined = joined.query('State != \"nan\"')\n",
    "joined.shape"
   ]
  },
  {
   "cell_type": "markdown",
   "metadata": {
    "collapsed": true
   },
   "source": [
    "# Basic model"
   ]
  },
  {
   "cell_type": "code",
   "execution_count": 449,
   "metadata": {
    "collapsed": true
   },
   "outputs": [],
   "source": [
    "from sklearn.ensemble import RandomForestClassifier\n",
    "from sklearn.cross_validation import train_test_split\n",
    "from sklearn.metrics import confusion_matrix"
   ]
  },
  {
   "cell_type": "code",
   "execution_count": 450,
   "metadata": {
    "collapsed": false,
    "scrolled": false
   },
   "outputs": [
    {
     "name": "stdout",
     "output_type": "stream",
     "text": [
      "2533 34 246\n"
     ]
    },
    {
     "name": "stderr",
     "output_type": "stream",
     "text": [
      "/anaconda/lib/python2.7/site-packages/ipykernel/__main__.py:7: SettingWithCopyWarning: \n",
      "A value is trying to be set on a copy of a slice from a DataFrame\n",
      "\n",
      "See the caveats in the documentation: http://pandas.pydata.org/pandas-docs/stable/indexing.html#indexing-view-versus-copy\n",
      "/anaconda/lib/python2.7/site-packages/ipykernel/__main__.py:8: SettingWithCopyWarning: \n",
      "A value is trying to be set on a copy of a slice from a DataFrame\n",
      "\n",
      "See the caveats in the documentation: http://pandas.pydata.org/pandas-docs/stable/indexing.html#indexing-view-versus-copy\n",
      "/anaconda/lib/python2.7/site-packages/ipykernel/__main__.py:9: SettingWithCopyWarning: \n",
      "A value is trying to be set on a copy of a slice from a DataFrame\n",
      "\n",
      "See the caveats in the documentation: http://pandas.pydata.org/pandas-docs/stable/indexing.html#indexing-view-versus-copy\n"
     ]
    }
   ],
   "source": [
    "# drop rows with any NaN values\n",
    "# not a long-term solution, but a quick and dirty model\n",
    "no_suit = joined[joined.indem_label == 0]\n",
    "suit_no_indem = joined[joined.indem_label == 1]\n",
    "suit_indem = joined[joined.indem_label == 2]\n",
    "\n",
    "no_suit.dropna(how='any', inplace=True)\n",
    "suit_no_indem.dropna(how='any', inplace=True)\n",
    "suit_indem.dropna(how='any', inplace=True)\n",
    "\n",
    "# print totals after NaN drop\n",
    "print no_suit.shape[0], suit_indem.shape[0], suit_no_indem.shape[0]\n",
    "\n",
    "# !\n",
    "# change values to 1 for binary classification\n",
    "# suit_indem['indem_label'] = 1\n",
    "\n",
    "# random sample from the three categories\n",
    "no_suit = no_suit.sample(600)\n",
    "suit_no_indem = suit_no_indem.sample(246)\n",
    "suit_indem = suit_indem.sample(34)"
   ]
  },
  {
   "cell_type": "code",
   "execution_count": 451,
   "metadata": {
    "collapsed": false,
    "scrolled": true
   },
   "outputs": [],
   "source": [
    "# combine random sample dataframes into concat_df\n",
    "concat_df = pd.concat([no_suit, suit_indem, suit_no_indem], axis=0)"
   ]
  },
  {
   "cell_type": "code",
   "execution_count": 452,
   "metadata": {
    "collapsed": false,
    "scrolled": false
   },
   "outputs": [],
   "source": [
    "# build label and feature dataframes\n",
    "y = concat_df.pop('indem_label')\n",
    "# ditched: BoardCredit, RecordKepping, state\n",
    "to_model = concat_df[['Procedures','JCAHO','age','BoardCredit']]\n",
    "# state = concat_df.pop('State')\n",
    "# dummies = pd.get_dummies(state)\n",
    "# to_model = pd.concat([to_model,dummies],axis=1)"
   ]
  },
  {
   "cell_type": "code",
   "execution_count": 453,
   "metadata": {
    "collapsed": false
   },
   "outputs": [],
   "source": [
    "# train / test split with random state\n",
    "X_train, X_test, y_train, y_test = train_test_split(to_model, y, test_size=0.25, stratify=y)"
   ]
  },
  {
   "cell_type": "code",
   "execution_count": 454,
   "metadata": {
    "collapsed": true
   },
   "outputs": [],
   "source": [
    "model = RandomForestClassifier(n_estimators=32, max_depth=5 ,oob_score=True)"
   ]
  },
  {
   "cell_type": "code",
   "execution_count": 455,
   "metadata": {
    "collapsed": false
   },
   "outputs": [
    {
     "data": {
      "text/plain": [
       "0.70757575757575752"
      ]
     },
     "execution_count": 455,
     "metadata": {},
     "output_type": "execute_result"
    }
   ],
   "source": [
    "# fit, validate with OOB score\n",
    "model.fit(X_train,y_train)\n",
    "model.oob_score_"
   ]
  },
  {
   "cell_type": "code",
   "execution_count": 456,
   "metadata": {
    "collapsed": false
   },
   "outputs": [
    {
     "data": {
      "text/plain": [
       "0.70454545454545459"
      ]
     },
     "execution_count": 456,
     "metadata": {},
     "output_type": "execute_result"
    }
   ],
   "source": [
    "preds = model.predict(X_test)\n",
    "model.score(X_test, y_test)"
   ]
  },
  {
   "cell_type": "code",
   "execution_count": 457,
   "metadata": {
    "collapsed": false,
    "scrolled": false
   },
   "outputs": [
    {
     "data": {
      "text/plain": [
       "array([[133,  17,   0],\n",
       "       [ 40,  22,   0],\n",
       "       [  5,   3,   0]])"
      ]
     },
     "execution_count": 457,
     "metadata": {},
     "output_type": "execute_result"
    }
   ],
   "source": [
    "confusion_matrix(y_test, preds)"
   ]
  },
  {
   "cell_type": "code",
   "execution_count": 458,
   "metadata": {
    "collapsed": false,
    "scrolled": true
   },
   "outputs": [],
   "source": [
    "# grab indices from return_low_no_suit_score FUNC\n",
    "low_no_suit_scores = return_low_no_suit_score(model,X_test)\n",
    "indices = [x[0] for x in low_no_suit_scores]\n",
    "\n",
    "# make y_test a list of values, from DataFrame\n",
    "y_actual_list = y_test.values.tolist()\n",
    "# take indices from return_low_no_suit_score FUNC\n",
    "y_actual_list_appropriate_indices = [y_actual_list[x] for x in indices]\n",
    "\n",
    "# zip(low_no_suit_scores,y_actual_list_appropriate_indices)"
   ]
  },
  {
   "cell_type": "code",
   "execution_count": 459,
   "metadata": {
    "collapsed": false,
    "scrolled": true
   },
   "outputs": [
    {
     "data": {
      "text/plain": [
       "[[0, 0.6076, 0.3405, 0.0519],\n",
       " [1, 0.8734, 0.1015, 0.0251],\n",
       " [2, 0.7027, 0.2079, 0.0894],\n",
       " [3, 0.9333, 0.0615, 0.0052],\n",
       " [4, 0.7508, 0.2117, 0.0376],\n",
       " [5, 0.6368, 0.3241, 0.0391],\n",
       " [6, 0.7261, 0.2514, 0.0225],\n",
       " [7, 0.4628, 0.5109, 0.0264],\n",
       " [8, 0.6535, 0.3105, 0.036],\n",
       " [9, 0.9216, 0.0687, 0.0097],\n",
       " [10, 0.5042, 0.4279, 0.0679],\n",
       " [11, 0.5458, 0.4005, 0.0537],\n",
       " [12, 0.1555, 0.7733, 0.0712],\n",
       " [13, 0.7354, 0.2348, 0.0298],\n",
       " [14, 0.9333, 0.0615, 0.0052],\n",
       " [15, 0.5689, 0.4016, 0.0295],\n",
       " [16, 0.9832, 0.0166, 0.0002],\n",
       " [17, 0.5042, 0.4279, 0.0679],\n",
       " [18, 0.365, 0.6138, 0.0212],\n",
       " [19, 0.865, 0.1221, 0.0128],\n",
       " [20, 0.4553, 0.4814, 0.0633],\n",
       " [21, 0.9832, 0.0166, 0.0002],\n",
       " [22, 0.5431, 0.4258, 0.0311],\n",
       " [23, 0.7145, 0.2743, 0.0112],\n",
       " [24, 0.8816, 0.111, 0.0074],\n",
       " [25, 0.8169, 0.1718, 0.0113],\n",
       " [26, 0.3988, 0.5407, 0.0605],\n",
       " [27, 0.7274, 0.24, 0.0325],\n",
       " [28, 0.7261, 0.2514, 0.0225],\n",
       " [29, 0.7354, 0.2348, 0.0298],\n",
       " [30, 0.3988, 0.5407, 0.0605],\n",
       " [31, 0.1633, 0.8084, 0.0283],\n",
       " [32, 0.4019, 0.5363, 0.0618],\n",
       " [33, 0.6368, 0.3241, 0.0391],\n",
       " [34, 0.7651, 0.2046, 0.0303],\n",
       " [35, 0.9689, 0.0309, 0.0002],\n",
       " [36, 0.7354, 0.2348, 0.0298],\n",
       " [37, 0.9333, 0.0615, 0.0052],\n",
       " [38, 0.871, 0.1169, 0.0122],\n",
       " [39, 0.5807, 0.4049, 0.0145],\n",
       " [40, 0.9775, 0.0223, 0.0002],\n",
       " [41, 0.5009, 0.4362, 0.0629],\n",
       " [42, 0.9832, 0.0166, 0.0002],\n",
       " [43, 0.9495, 0.0502, 0.0002],\n",
       " [44, 0.7651, 0.2046, 0.0303],\n",
       " [45, 0.9333, 0.0615, 0.0052],\n",
       " [46, 0.8683, 0.0998, 0.0319],\n",
       " [47, 0.895, 0.1017, 0.0032],\n",
       " [48, 0.9333, 0.0615, 0.0052],\n",
       " [49, 0.717, 0.2564, 0.0265],\n",
       " [50, 0.8593, 0.1248, 0.0159],\n",
       " [51, 0.3768, 0.5597, 0.0635],\n",
       " [52, 0.6145, 0.2739, 0.1116],\n",
       " [53, 0.7261, 0.2514, 0.0225],\n",
       " [54, 0.1796, 0.737, 0.0834],\n",
       " [55, 0.9208, 0.0698, 0.0094],\n",
       " [56, 0.8411, 0.128, 0.0309],\n",
       " [57, 0.9297, 0.0675, 0.0028],\n",
       " [58, 0.7045, 0.2602, 0.0353],\n",
       " [59, 0.9216, 0.0687, 0.0097],\n",
       " [60, 0.592, 0.3734, 0.0346],\n",
       " [61, 0.9209, 0.0672, 0.0119],\n",
       " [62, 0.5042, 0.4279, 0.0679],\n",
       " [63, 0.9832, 0.0166, 0.0002],\n",
       " [64, 0.8025, 0.1714, 0.0262],\n",
       " [65, 0.7651, 0.2046, 0.0303],\n",
       " [66, 0.6909, 0.2773, 0.0318],\n",
       " [67, 0.9209, 0.0672, 0.0119],\n",
       " [68, 0.9333, 0.0615, 0.0052],\n",
       " [69, 0.8965, 0.0834, 0.0201],\n",
       " [70, 0.7045, 0.2602, 0.0353],\n",
       " [71, 0.9775, 0.0223, 0.0002],\n",
       " [72, 0.9689, 0.0309, 0.0002],\n",
       " [73, 0.4553, 0.4814, 0.0633],\n",
       " [74, 0.5042, 0.4279, 0.0679],\n",
       " [75, 0.7879, 0.2088, 0.0032],\n",
       " [76, 0.4628, 0.5109, 0.0264],\n",
       " [77, 0.6573, 0.2965, 0.0462],\n",
       " [78, 0.748, 0.2013, 0.0507],\n",
       " [79, 0.7261, 0.2514, 0.0225],\n",
       " [80, 0.5042, 0.4279, 0.0679],\n",
       " [81, 0.4655, 0.509, 0.0255],\n",
       " [82, 0.4285, 0.5077, 0.0638],\n",
       " [83, 0.8683, 0.0998, 0.0319],\n",
       " [84, 0.3768, 0.5597, 0.0635],\n",
       " [85, 0.9297, 0.0675, 0.0028],\n",
       " [86, 0.8326, 0.1139, 0.0535],\n",
       " [87, 0.9333, 0.0615, 0.0052],\n",
       " [88, 0.7643, 0.1784, 0.0573],\n",
       " [89, 0.5972, 0.367, 0.0358],\n",
       " [90, 0.9783, 0.0215, 0.0002],\n",
       " [91, 0.5393, 0.3857, 0.0751],\n",
       " [92, 0.7354, 0.2348, 0.0298],\n",
       " [93, 0.7454, 0.2421, 0.0125],\n",
       " [94, 0.8169, 0.1718, 0.0113],\n",
       " [95, 0.4019, 0.5363, 0.0618],\n",
       " [96, 0.9021, 0.0875, 0.0103],\n",
       " [97, 0.9716, 0.0282, 0.0002],\n",
       " [98, 0.9716, 0.0282, 0.0002],\n",
       " [99, 0.7354, 0.2348, 0.0298],\n",
       " [100, 0.7904, 0.1634, 0.0462],\n",
       " [101, 0.6308, 0.3562, 0.013],\n",
       " [102, 0.9832, 0.0166, 0.0002],\n",
       " [103, 0.8816, 0.111, 0.0074],\n",
       " [104, 0.407, 0.5323, 0.0607],\n",
       " [105, 0.978, 0.0218, 0.0002],\n",
       " [106, 0.9832, 0.0166, 0.0002],\n",
       " [107, 0.3957, 0.5418, 0.0626],\n",
       " [108, 0.1946, 0.7893, 0.0161],\n",
       " [109, 0.3957, 0.5418, 0.0626],\n",
       " [110, 0.8662, 0.1216, 0.0121],\n",
       " [111, 0.9333, 0.0615, 0.0052],\n",
       " [112, 0.8007, 0.1375, 0.0618],\n",
       " [113, 0.6535, 0.3105, 0.036],\n",
       " [114, 0.9192, 0.0734, 0.0074],\n",
       " [115, 0.6308, 0.3562, 0.013],\n",
       " [116, 0.4019, 0.5363, 0.0618],\n",
       " [117, 0.3988, 0.5407, 0.0605],\n",
       " [118, 0.9216, 0.0687, 0.0097],\n",
       " [119, 0.9333, 0.0615, 0.0052],\n",
       " [120, 0.5119, 0.4836, 0.0045],\n",
       " [121, 0.6535, 0.3105, 0.036],\n",
       " [122, 0.5178, 0.39, 0.0922],\n",
       " [123, 0.717, 0.2564, 0.0265],\n",
       " [124, 0.6415, 0.2267, 0.1318],\n",
       " [125, 0.9689, 0.0309, 0.0002],\n",
       " [126, 0.8411, 0.128, 0.0309],\n",
       " [127, 0.7714, 0.194, 0.0345],\n",
       " [128, 0.8621, 0.105, 0.0329],\n",
       " [129, 0.1415, 0.7866, 0.0719],\n",
       " [130, 0.6308, 0.3562, 0.013],\n",
       " [131, 0.9216, 0.0687, 0.0097],\n",
       " [132, 0.9782, 0.0218, 0.0],\n",
       " [133, 0.9482, 0.0498, 0.002],\n",
       " [134, 0.9689, 0.0309, 0.0002],\n",
       " [135, 0.9209, 0.0672, 0.0119],\n",
       " [136, 0.447, 0.4881, 0.0649],\n",
       " [137, 0.9333, 0.0615, 0.0052],\n",
       " [138, 0.865, 0.1221, 0.0128],\n",
       " [139, 0.7261, 0.2514, 0.0225],\n",
       " [140, 0.9689, 0.0309, 0.0002],\n",
       " [141, 0.5042, 0.4279, 0.0679],\n",
       " [142, 0.3957, 0.5418, 0.0626],\n",
       " [143, 0.978, 0.0218, 0.0002],\n",
       " [144, 0.9495, 0.0502, 0.0002],\n",
       " [145, 0.8736, 0.112, 0.0144],\n",
       " [146, 0.3957, 0.5418, 0.0626],\n",
       " [147, 0.3039, 0.6915, 0.0045],\n",
       " [148, 0.5502, 0.4486, 0.0012],\n",
       " [149, 0.871, 0.1169, 0.0122],\n",
       " [150, 0.7319, 0.0304, 0.2377],\n",
       " [151, 0.5042, 0.4279, 0.0679],\n",
       " [152, 0.2414, 0.754, 0.0045],\n",
       " [153, 0.4539, 0.486, 0.0601],\n",
       " [154, 0.9021, 0.0875, 0.0103],\n",
       " [155, 0.9333, 0.0615, 0.0052],\n",
       " [156, 0.8965, 0.0834, 0.0201],\n",
       " [157, 0.4539, 0.486, 0.0601],\n",
       " [158, 0.5042, 0.4279, 0.0679],\n",
       " [159, 0.4285, 0.5077, 0.0638],\n",
       " [160, 0.7508, 0.2117, 0.0376],\n",
       " [161, 0.4285, 0.5077, 0.0638],\n",
       " [162, 0.6909, 0.2773, 0.0318],\n",
       " [163, 0.2566, 0.6337, 0.1098],\n",
       " [164, 0.4019, 0.5363, 0.0618],\n",
       " [165, 0.5042, 0.4279, 0.0679],\n",
       " [166, 0.4553, 0.4814, 0.0633],\n",
       " [167, 0.7045, 0.2602, 0.0353],\n",
       " [168, 0.9689, 0.0309, 0.0002],\n",
       " [169, 0.1226, 0.8046, 0.0729],\n",
       " [170, 0.6535, 0.3105, 0.036],\n",
       " [171, 0.865, 0.1221, 0.0128],\n",
       " [172, 0.3957, 0.5418, 0.0626],\n",
       " [173, 0.592, 0.3734, 0.0346],\n",
       " [174, 0.5009, 0.4362, 0.0629],\n",
       " [175, 0.553, 0.2592, 0.1879],\n",
       " [176, 0.8965, 0.0834, 0.0201],\n",
       " [177, 0.1597, 0.7556, 0.0847],\n",
       " [178, 0.895, 0.0837, 0.0213],\n",
       " [179, 0.717, 0.2564, 0.0265],\n",
       " [180, 0.9297, 0.0675, 0.0028],\n",
       " [181, 0.8962, 0.0909, 0.0129],\n",
       " [182, 0.7354, 0.2348, 0.0298],\n",
       " [183, 0.9832, 0.0166, 0.0002],\n",
       " [184, 0.5042, 0.4279, 0.0679],\n",
       " [185, 0.8411, 0.128, 0.0309],\n",
       " [186, 0.7343, 0.2564, 0.0093],\n",
       " [187, 0.5953, 0.3606, 0.044],\n",
       " [188, 0.5953, 0.3606, 0.044],\n",
       " [189, 0.9832, 0.0166, 0.0002],\n",
       " [190, 0.9245, 0.0713, 0.0042],\n",
       " [191, 0.9216, 0.0687, 0.0097],\n",
       " [192, 0.6415, 0.2267, 0.1318],\n",
       " [193, 0.6308, 0.3562, 0.013],\n",
       " [194, 0.1567, 0.8149, 0.0283],\n",
       " [195, 0.9689, 0.0309, 0.0002],\n",
       " [196, 0.5009, 0.4362, 0.0629],\n",
       " [197, 0.6368, 0.3241, 0.0391],\n",
       " [198, 0.5972, 0.367, 0.0358],\n",
       " [199, 0.6451, 0.3052, 0.0497],\n",
       " [200, 0.4285, 0.5077, 0.0638],\n",
       " [201, 0.891, 0.089, 0.02],\n",
       " [202, 0.4417, 0.5431, 0.0153],\n",
       " [203, 0.8943, 0.0874, 0.0183],\n",
       " [204, 0.6338, 0.3023, 0.0639],\n",
       " [205, 0.8326, 0.1139, 0.0535],\n",
       " [206, 0.717, 0.2564, 0.0265],\n",
       " [207, 0.7354, 0.2348, 0.0298],\n",
       " [208, 0.5393, 0.3857, 0.0751],\n",
       " [209, 0.8662, 0.1216, 0.0121],\n",
       " [210, 0.3768, 0.5597, 0.0635],\n",
       " [211, 0.9832, 0.0166, 0.0002],\n",
       " [212, 0.8766, 0.1112, 0.0122],\n",
       " [213, 0.9333, 0.0615, 0.0052],\n",
       " [214, 0.9775, 0.0223, 0.0002],\n",
       " [215, 0.7114, 0.2504, 0.0382],\n",
       " [216, 0.9832, 0.0166, 0.0002],\n",
       " [217, 0.5972, 0.367, 0.0358],\n",
       " [218, 0.6001, 0.3472, 0.0527],\n",
       " [219, 0.592, 0.3734, 0.0346]]"
      ]
     },
     "execution_count": 459,
     "metadata": {},
     "output_type": "execute_result"
    }
   ],
   "source": [
    "return_probability_scores(model, X_test)"
   ]
  },
  {
   "cell_type": "markdown",
   "metadata": {},
   "source": [
    "#### Gridsearching! "
   ]
  },
  {
   "cell_type": "code",
   "execution_count": 460,
   "metadata": {
    "collapsed": false,
    "scrolled": true
   },
   "outputs": [
    {
     "data": {
      "text/plain": [
       "GridSearchCV(cv=None, error_score='raise',\n",
       "       estimator=RandomForestClassifier(bootstrap=True, class_weight=None, criterion='gini',\n",
       "            max_depth=5, max_features='auto', max_leaf_nodes=None,\n",
       "            min_samples_leaf=1, min_samples_split=2,\n",
       "            min_weight_fraction_leaf=0.0, n_estimators=32, n_jobs=1,\n",
       "            oob_score=True, random_state=None, verbose=0, warm_start=False),\n",
       "       fit_params={}, iid=True, n_jobs=1,\n",
       "       param_grid={'n_estimators': [16, 32, 64, 80, 85, 90, 95, 100, 120], 'max_depth': [2, 3, 4, 5, 6, 8, 16, 32]},\n",
       "       pre_dispatch='2*n_jobs', refit=True, scoring=None, verbose=0)"
      ]
     },
     "execution_count": 460,
     "metadata": {},
     "output_type": "execute_result"
    }
   ],
   "source": [
    "n_est_range = [16,32,64,80,85,90,95,100,120]\n",
    "m_range = [2,3,4,5,6,8,16,32]\n",
    "lrgs = GridSearchCV(estimator=model, param_grid=dict(n_estimators=n_est_range, max_depth=m_range), n_jobs=1)\n",
    "lrgs.fit(X_train,y_train)"
   ]
  },
  {
   "cell_type": "code",
   "execution_count": 461,
   "metadata": {
    "collapsed": false,
    "scrolled": true
   },
   "outputs": [
    {
     "name": "stdout",
     "output_type": "stream",
     "text": [
      "0.712121212121\n",
      "RandomForestClassifier(bootstrap=True, class_weight=None, criterion='gini',\n",
      "            max_depth=3, max_features='auto', max_leaf_nodes=None,\n",
      "            min_samples_leaf=1, min_samples_split=2,\n",
      "            min_weight_fraction_leaf=0.0, n_estimators=95, n_jobs=1,\n",
      "            oob_score=True, random_state=None, verbose=0, warm_start=False)\n"
     ]
    }
   ],
   "source": [
    "print lrgs.best_score_\n",
    "print lrgs.best_estimator_"
   ]
  },
  {
   "cell_type": "code",
   "execution_count": null,
   "metadata": {
    "collapsed": false,
    "scrolled": false
   },
   "outputs": [],
   "source": []
  },
  {
   "cell_type": "code",
   "execution_count": null,
   "metadata": {
    "collapsed": true
   },
   "outputs": [],
   "source": []
  },
  {
   "cell_type": "code",
   "execution_count": null,
   "metadata": {
    "collapsed": true
   },
   "outputs": [],
   "source": []
  },
  {
   "cell_type": "code",
   "execution_count": 39,
   "metadata": {
    "collapsed": true
   },
   "outputs": [],
   "source": [
    "joined.dropna(how='any', inplace=True)"
   ]
  },
  {
   "cell_type": "code",
   "execution_count": 40,
   "metadata": {
    "collapsed": false
   },
   "outputs": [
    {
     "data": {
      "text/plain": [
       "0.0    3765\n",
       "1.0     272\n",
       "2.0      39\n",
       "Name: indem_label, dtype: int64"
      ]
     },
     "execution_count": 40,
     "metadata": {},
     "output_type": "execute_result"
    }
   ],
   "source": [
    "joined['indem_label'].value_counts()"
   ]
  },
  {
   "cell_type": "code",
   "execution_count": 50,
   "metadata": {
    "collapsed": false,
    "scrolled": false
   },
   "outputs": [],
   "source": [
    "sample = joined[joined['indem_label']==2]"
   ]
  },
  {
   "cell_type": "code",
   "execution_count": 53,
   "metadata": {
    "collapsed": false,
    "scrolled": false
   },
   "outputs": [],
   "source": [
    "sample = sample.append(joined[joined['indem_label']==1].sample(100,replace=False))\n",
    "sample = sample.append(joined[joined['indem_label']==0].sample(1000,replace=False))"
   ]
  },
  {
   "cell_type": "code",
   "execution_count": 55,
   "metadata": {
    "collapsed": false
   },
   "outputs": [],
   "source": [
    "sample.to_csv('sample_of_docs')"
   ]
  },
  {
   "cell_type": "code",
   "execution_count": 48,
   "metadata": {
    "collapsed": false
   },
   "outputs": [
    {
     "data": {
      "text/plain": [
       "2.0    39\n",
       "Name: indem_label, dtype: int64"
      ]
     },
     "execution_count": 48,
     "metadata": {},
     "output_type": "execute_result"
    }
   ],
   "source": [
    "sample.indem_label.value_counts()"
   ]
  }
 ],
 "metadata": {
  "kernelspec": {
   "display_name": "Python 2",
   "language": "python",
   "name": "python2"
  },
  "language_info": {
   "codemirror_mode": {
    "name": "ipython",
    "version": 2
   },
   "file_extension": ".py",
   "mimetype": "text/x-python",
   "name": "python",
   "nbconvert_exporter": "python",
   "pygments_lexer": "ipython2",
   "version": "2.7.11"
  }
 },
 "nbformat": 4,
 "nbformat_minor": 0
}
