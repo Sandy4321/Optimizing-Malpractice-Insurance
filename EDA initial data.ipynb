{
 "cells": [
  {
   "cell_type": "code",
   "execution_count": 277,
   "metadata": {
    "collapsed": false
   },
   "outputs": [],
   "source": [
    "import numpy as np\n",
    "import pandas as pd\n",
    "pd.set_option('display.max_columns', None)\n",
    "from datetime import datetime\n",
    "from datetime import timedelta\n",
    "from sklearn.grid_search import GridSearchCV\n",
    "\n",
    "import sys\n",
    "sys.path.append('/Users/drewrice/Desktop/Galvanize/Github/Galvanize-Final-Project/code')\n",
    "from return_low_no_suit_score import return_low_no_suit_score"
   ]
  },
  {
   "cell_type": "markdown",
   "metadata": {},
   "source": [
    "# Imports and feature selection"
   ]
  },
  {
   "cell_type": "code",
   "execution_count": 278,
   "metadata": {
    "collapsed": false
   },
   "outputs": [],
   "source": [
    "# using docs to model\n",
    "# labels come from claims data \n",
    "claims = pd.read_csv('/Users/drewrice/Desktop/capson_csv/Claims.csv')\n",
    "docs = pd.read_csv('/Users/drewrice/Desktop/capson_csv/ProviderInfo.csv')\n",
    "prems = pd.read_csv('/Users/drewrice/Desktop/capson_csv/ScheduleOfWrittenPremium.csv')\n",
    "debs_and_creds_full = pd.read_csv('/Users/drewrice/Desktop/capson_csv/ScheduleOfDebitsAndCredits.csv')\n",
    "policy = pd.read_csv('/Users/drewrice/Desktop/capson_csv/PolicyInfo.csv')"
   ]
  },
  {
   "cell_type": "code",
   "execution_count": 279,
   "metadata": {
    "collapsed": false
   },
   "outputs": [],
   "source": [
    "# drop non-essential columns\n",
    "# drop duplicates\n",
    "docs.drop(['Middle Name','Address 1', 'Address 2', 'Zip','Address Type','Practice Start Date'],axis=1,inplace=True)\n",
    "docs.drop_duplicates(inplace=True)"
   ]
  },
  {
   "cell_type": "code",
   "execution_count": 280,
   "metadata": {
    "collapsed": false
   },
   "outputs": [],
   "source": [
    "# grab essential columns for building classifier\n",
    "indem = claims[['Indemnity_Paid','ProviderId']]"
   ]
  },
  {
   "cell_type": "code",
   "execution_count": 281,
   "metadata": {
    "collapsed": false,
    "scrolled": true
   },
   "outputs": [],
   "source": [
    "# docs DF, conversion to string\n",
    "# lower ProviderId\n",
    "docs[['ProviderId','Last Name','First Name','Gender','City','State','County']] = \\\n",
    "docs[['ProviderId','Last Name','First Name','Gender','City','State','County']].astype(str)\n",
    "docs['ProviderId'] = docs['ProviderId'].map(lambda x: x if type(x)!=str else x.lower())"
   ]
  },
  {
   "cell_type": "code",
   "execution_count": 282,
   "metadata": {
    "collapsed": false
   },
   "outputs": [
    {
     "name": "stderr",
     "output_type": "stream",
     "text": [
      "/anaconda/lib/python2.7/site-packages/ipykernel/__main__.py:3: SettingWithCopyWarning: \n",
      "A value is trying to be set on a copy of a slice from a DataFrame.\n",
      "Try using .loc[row_indexer,col_indexer] = value instead\n",
      "\n",
      "See the caveats in the documentation: http://pandas.pydata.org/pandas-docs/stable/indexing.html#indexing-view-versus-copy\n",
      "  app.launch_new_instance()\n",
      "/anaconda/lib/python2.7/site-packages/ipykernel/__main__.py:4: SettingWithCopyWarning: \n",
      "A value is trying to be set on a copy of a slice from a DataFrame.\n",
      "Try using .loc[row_indexer,col_indexer] = value instead\n",
      "\n",
      "See the caveats in the documentation: http://pandas.pydata.org/pandas-docs/stable/indexing.html#indexing-view-versus-copy\n",
      "/anaconda/lib/python2.7/site-packages/ipykernel/__main__.py:5: SettingWithCopyWarning: \n",
      "A value is trying to be set on a copy of a slice from a DataFrame.\n",
      "Try using .loc[row_indexer,col_indexer] = value instead\n",
      "\n",
      "See the caveats in the documentation: http://pandas.pydata.org/pandas-docs/stable/indexing.html#indexing-view-versus-copy\n"
     ]
    }
   ],
   "source": [
    "# indem DF, conversions to string and float\n",
    "# lower ProviderId\n",
    "indem['Indemnity_Paid'] = indem['Indemnity_Paid'].str.replace(r'[$,]', '').astype('float')\n",
    "indem['ProviderId'] = indem['ProviderId'].astype(str)\n",
    "indem['ProviderId'] = indem['ProviderId'].str.lower()"
   ]
  },
  {
   "cell_type": "code",
   "execution_count": 283,
   "metadata": {
    "collapsed": true
   },
   "outputs": [],
   "source": [
    "# def build_classifier_label(item):\n",
    "#     if item == 0:\n",
    "#         return 'suit, no indem'\n",
    "#     if item != 0:\n",
    "#         return 'suit, indem'\n",
    "\n",
    "def build_classifier_label(item):\n",
    "    if item == 0:\n",
    "        return 1\n",
    "    if item != 0:\n",
    "        return 2"
   ]
  },
  {
   "cell_type": "code",
   "execution_count": 284,
   "metadata": {
    "collapsed": false
   },
   "outputs": [
    {
     "name": "stderr",
     "output_type": "stream",
     "text": [
      "/anaconda/lib/python2.7/site-packages/ipykernel/__main__.py:1: SettingWithCopyWarning: \n",
      "A value is trying to be set on a copy of a slice from a DataFrame.\n",
      "Try using .loc[row_indexer,col_indexer] = value instead\n",
      "\n",
      "See the caveats in the documentation: http://pandas.pydata.org/pandas-docs/stable/indexing.html#indexing-view-versus-copy\n",
      "  if __name__ == '__main__':\n"
     ]
    }
   ],
   "source": [
    "indem['indem_label'] = indem['Indemnity_Paid'].apply(lambda item: build_classifier_label(item))"
   ]
  },
  {
   "cell_type": "markdown",
   "metadata": {},
   "source": [
    "# Join docs and indemnity tables, fill NaNs with 'no suit'"
   ]
  },
  {
   "cell_type": "code",
   "execution_count": 285,
   "metadata": {
    "collapsed": false
   },
   "outputs": [],
   "source": [
    "joined = pd.merge(docs, indem[['ProviderId', 'indem_label']], how='left', on='ProviderId')\n",
    "joined.drop_duplicates(inplace=True)"
   ]
  },
  {
   "cell_type": "code",
   "execution_count": 286,
   "metadata": {
    "collapsed": true
   },
   "outputs": [],
   "source": [
    "# finish indemnity classifier\n",
    "# find NaNs in indem_label column, replace with 'no suit'\n",
    "def indem_label_no_suit(x):\n",
    "    if type(x) == np.float_: \n",
    "        if np.isnan(x): \n",
    "#             return 'no suit'\n",
    "            return 0\n",
    "        else:\n",
    "            return x"
   ]
  },
  {
   "cell_type": "code",
   "execution_count": 287,
   "metadata": {
    "collapsed": false,
    "scrolled": false
   },
   "outputs": [],
   "source": [
    "joined.indem_label = joined.indem_label.apply(lambda item: indem_label_no_suit(item))"
   ]
  },
  {
   "cell_type": "markdown",
   "metadata": {
    "collapsed": false
   },
   "source": [
    "# Claims data\n",
    "#### building classifiers for BoardCredit and ClaimsBand, then merging with joined"
   ]
  },
  {
   "cell_type": "code",
   "execution_count": 288,
   "metadata": {
    "collapsed": true
   },
   "outputs": [],
   "source": [
    "def build_classifier(item):\n",
    "    if item == 0:\n",
    "        return 0\n",
    "    if item != 0:\n",
    "        return 1"
   ]
  },
  {
   "cell_type": "code",
   "execution_count": 289,
   "metadata": {
    "collapsed": false,
    "scrolled": true
   },
   "outputs": [
    {
     "name": "stderr",
     "output_type": "stream",
     "text": [
      "/anaconda/lib/python2.7/site-packages/ipykernel/__main__.py:6: SettingWithCopyWarning: \n",
      "A value is trying to be set on a copy of a slice from a DataFrame.\n",
      "Try using .loc[row_indexer,col_indexer] = value instead\n",
      "\n",
      "See the caveats in the documentation: http://pandas.pydata.org/pandas-docs/stable/indexing.html#indexing-view-versus-copy\n"
     ]
    },
    {
     "data": {
      "text/html": [
       "<div>\n",
       "<table border=\"1\" class=\"dataframe\">\n",
       "  <thead>\n",
       "    <tr style=\"text-align: right;\">\n",
       "      <th></th>\n",
       "      <th>ProviderId</th>\n",
       "      <th>BoardCredit</th>\n",
       "      <th>ClaimsBand</th>\n",
       "      <th>Procedures</th>\n",
       "      <th>JCAHO</th>\n",
       "      <th>RecordKepping</th>\n",
       "    </tr>\n",
       "  </thead>\n",
       "  <tbody>\n",
       "    <tr>\n",
       "      <th>8458</th>\n",
       "      <td>19d9c4e6-e820-41c4-b398-134e6c0ba410</td>\n",
       "      <td>-55</td>\n",
       "      <td>-220</td>\n",
       "      <td>0</td>\n",
       "      <td>0</td>\n",
       "      <td>0</td>\n",
       "    </tr>\n",
       "    <tr>\n",
       "      <th>8459</th>\n",
       "      <td>6398eeea-10af-448f-bd10-364be1d0c90c</td>\n",
       "      <td>0</td>\n",
       "      <td>-8951</td>\n",
       "      <td>0</td>\n",
       "      <td>-2984</td>\n",
       "      <td>0</td>\n",
       "    </tr>\n",
       "    <tr>\n",
       "      <th>8460</th>\n",
       "      <td>d54c0b59-08e5-4ed7-ba5a-413b2016b269</td>\n",
       "      <td>-1366</td>\n",
       "      <td>0</td>\n",
       "      <td>0</td>\n",
       "      <td>-1366</td>\n",
       "      <td>-2733</td>\n",
       "    </tr>\n",
       "    <tr>\n",
       "      <th>8461</th>\n",
       "      <td>3eacedf6-9173-4a64-89c7-ba8b6e150850</td>\n",
       "      <td>-88</td>\n",
       "      <td>0</td>\n",
       "      <td>0</td>\n",
       "      <td>0</td>\n",
       "      <td>0</td>\n",
       "    </tr>\n",
       "    <tr>\n",
       "      <th>8462</th>\n",
       "      <td>ea83f592-67dd-46d5-b15c-9d0738f81c93</td>\n",
       "      <td>0</td>\n",
       "      <td>-258</td>\n",
       "      <td>0</td>\n",
       "      <td>0</td>\n",
       "      <td>0</td>\n",
       "    </tr>\n",
       "  </tbody>\n",
       "</table>\n",
       "</div>"
      ],
      "text/plain": [
       "                                ProviderId  BoardCredit  ClaimsBand  \\\n",
       "8458  19d9c4e6-e820-41c4-b398-134e6c0ba410          -55        -220   \n",
       "8459  6398eeea-10af-448f-bd10-364be1d0c90c            0       -8951   \n",
       "8460  d54c0b59-08e5-4ed7-ba5a-413b2016b269        -1366           0   \n",
       "8461  3eacedf6-9173-4a64-89c7-ba8b6e150850          -88           0   \n",
       "8462  ea83f592-67dd-46d5-b15c-9d0738f81c93            0        -258   \n",
       "\n",
       "      Procedures  JCAHO  RecordKepping  \n",
       "8458           0      0              0  \n",
       "8459           0  -2984              0  \n",
       "8460           0  -1366          -2733  \n",
       "8461           0      0              0  \n",
       "8462           0      0              0  "
      ]
     },
     "execution_count": 289,
     "metadata": {},
     "output_type": "execute_result"
    }
   ],
   "source": [
    "# resave debs_and_creds with just the desired columns\n",
    "# NOTE: typo 'RecordKepping'\n",
    "debs_and_creds = debs_and_creds_full[['ProviderId','BoardCredit','ClaimsBand','Procedures','JCAHO','RecordKepping']]\n",
    "\n",
    "# lower Provider Id\n",
    "debs_and_creds['ProviderId'] = debs_and_creds['ProviderId'].map(lambda x: x if type(x)!=str else x.lower())\n",
    "debs_and_creds.tail()"
   ]
  },
  {
   "cell_type": "code",
   "execution_count": 290,
   "metadata": {
    "collapsed": false,
    "scrolled": true
   },
   "outputs": [],
   "source": [
    "# group by Provider ID, resave debs_and_creds\n",
    "debs_and_creds = debs_and_creds.groupby(debs_and_creds['ProviderId']).sum()\n",
    "# reset index required\n",
    "debs_and_creds.reset_index(inplace=True)"
   ]
  },
  {
   "cell_type": "code",
   "execution_count": 291,
   "metadata": {
    "collapsed": false,
    "scrolled": true
   },
   "outputs": [],
   "source": [
    "# use build_classifier to create binary column from BoardCredit & ClaimsBand\n",
    "debs_and_creds['BoardCredit'] = debs_and_creds['BoardCredit'].apply(lambda item: build_classifier(item))\n",
    "debs_and_creds['ClaimsBand'] = debs_and_creds['ClaimsBand'].apply(lambda item: build_classifier(item))\n",
    "debs_and_creds['Procedures'] = debs_and_creds['Procedures'].apply(lambda item: build_classifier(item))\n",
    "debs_and_creds['JCAHO'] = debs_and_creds['JCAHO'].apply(lambda item: build_classifier(item))\n",
    "debs_and_creds['RecordKepping'] = debs_and_creds['RecordKepping'].apply(lambda item: build_classifier(item))"
   ]
  },
  {
   "cell_type": "markdown",
   "metadata": {},
   "source": [
    "# Build 'joined'"
   ]
  },
  {
   "cell_type": "code",
   "execution_count": 292,
   "metadata": {
    "collapsed": false,
    "scrolled": true
   },
   "outputs": [],
   "source": [
    "joined = pd.merge(joined, debs_and_creds, how='left', on='ProviderId')"
   ]
  },
  {
   "cell_type": "markdown",
   "metadata": {},
   "source": [
    "# EDA"
   ]
  },
  {
   "cell_type": "code",
   "execution_count": 293,
   "metadata": {
    "collapsed": false,
    "scrolled": false
   },
   "outputs": [
    {
     "name": "stdout",
     "output_type": "stream",
     "text": [
      "Doctors wih no suits:  6147\n",
      "Doctors with suits, no indemnity paid:  281\n",
      "Doctors with suits, indemnity paid:  41\n"
     ]
    },
    {
     "name": "stderr",
     "output_type": "stream",
     "text": [
      "/anaconda/lib/python2.7/site-packages/ipykernel/__main__.py:2: FutureWarning: sort(columns=....) is deprecated, use sort_values(by=.....)\n",
      "  from ipykernel import kernelapp as app\n",
      "/anaconda/lib/python2.7/site-packages/ipykernel/__main__.py:3: FutureWarning: sort(columns=....) is deprecated, use sort_values(by=.....)\n",
      "  app.launch_new_instance()\n",
      "/anaconda/lib/python2.7/site-packages/ipykernel/__main__.py:4: FutureWarning: sort(columns=....) is deprecated, use sort_values(by=.....)\n"
     ]
    }
   ],
   "source": [
    "# print num of doctors in each bucket, using the \n",
    "print 'Doctors wih no suits: ', joined[joined['indem_label'] == 0].sort(['Last Name']).shape[0]\n",
    "print 'Doctors with suits, no indemnity paid: ', joined[joined['indem_label'] == 1].sort(['Last Name']).shape[0]\n",
    "print 'Doctors with suits, indemnity paid: ', joined[joined['indem_label'] == 2].sort(['Last Name']).shape[0]"
   ]
  },
  {
   "cell_type": "markdown",
   "metadata": {},
   "source": [
    "# Feature engineering"
   ]
  },
  {
   "cell_type": "markdown",
   "metadata": {},
   "source": [
    "### ~ build age column ~"
   ]
  },
  {
   "cell_type": "code",
   "execution_count": 294,
   "metadata": {
    "collapsed": false
   },
   "outputs": [],
   "source": [
    "# convert DoB to datetime object\n",
    "joined['Date of Birth'] = pd.to_datetime(joined['Date of Birth'])"
   ]
  },
  {
   "cell_type": "code",
   "execution_count": 295,
   "metadata": {
    "collapsed": false,
    "scrolled": false
   },
   "outputs": [],
   "source": [
    "# time_delta function\n",
    "def time_delta(dt):\n",
    "    if dt.year > 2000:\n",
    "        dt = dt - timedelta(days=36525)\n",
    "    return dt"
   ]
  },
  {
   "cell_type": "code",
   "execution_count": 296,
   "metadata": {
    "collapsed": false
   },
   "outputs": [],
   "source": [
    "# apply time_delta function to DoB column, deal with datetime rounding to the 2000s\n",
    "joined['Date of Birth'] = joined['Date of Birth'].apply(lambda dt: time_delta(dt))"
   ]
  },
  {
   "cell_type": "code",
   "execution_count": 297,
   "metadata": {
    "collapsed": false
   },
   "outputs": [],
   "source": [
    "# fill missing values with 1/1/2060\n",
    "joined['Date of Birth'].fillna(datetime(2060, 1, 1, 0, 0),inplace=True)"
   ]
  },
  {
   "cell_type": "code",
   "execution_count": 298,
   "metadata": {
    "collapsed": false
   },
   "outputs": [],
   "source": [
    "# build age column\n",
    "now = datetime.now()\n",
    "joined['age'] = now - joined['Date of Birth']"
   ]
  },
  {
   "cell_type": "code",
   "execution_count": 299,
   "metadata": {
    "collapsed": false,
    "scrolled": true
   },
   "outputs": [],
   "source": [
    "# function to convert years into days\n",
    "def to_years(dt):\n",
    "    if dt:\n",
    "        dt = (dt.days) / 365.25\n",
    "    return dt"
   ]
  },
  {
   "cell_type": "code",
   "execution_count": 300,
   "metadata": {
    "collapsed": false,
    "scrolled": false
   },
   "outputs": [],
   "source": [
    "# apply to_years function to age column\n",
    "joined['age'] = (joined['age'].apply(lambda dt: to_years(dt))).round()"
   ]
  },
  {
   "cell_type": "code",
   "execution_count": 301,
   "metadata": {
    "collapsed": false,
    "scrolled": false
   },
   "outputs": [],
   "source": [
    "# refill Date of Birth with NaNs\n",
    "joined['Date of Birth'].replace(datetime(2060, 1, 1, 0, 0), np.nan, inplace=True)"
   ]
  },
  {
   "cell_type": "code",
   "execution_count": 302,
   "metadata": {
    "collapsed": false,
    "scrolled": false
   },
   "outputs": [],
   "source": [
    "def refill_age(x):\n",
    "    if x < 0:\n",
    "        x = np.nan\n",
    "    return x"
   ]
  },
  {
   "cell_type": "code",
   "execution_count": 303,
   "metadata": {
    "collapsed": true
   },
   "outputs": [],
   "source": [
    "# refill age with nan's for docs with missing birthdate\n",
    "joined['age'] = (joined['age'].apply(lambda dt: refill_age(dt))).round()"
   ]
  },
  {
   "cell_type": "code",
   "execution_count": 304,
   "metadata": {
    "collapsed": false,
    "scrolled": false
   },
   "outputs": [
    {
     "data": {
      "text/html": [
       "<div>\n",
       "<table border=\"1\" class=\"dataframe\">\n",
       "  <thead>\n",
       "    <tr style=\"text-align: right;\">\n",
       "      <th></th>\n",
       "      <th>indem_label</th>\n",
       "      <th>BoardCredit</th>\n",
       "      <th>ClaimsBand</th>\n",
       "      <th>Procedures</th>\n",
       "      <th>JCAHO</th>\n",
       "      <th>RecordKepping</th>\n",
       "      <th>age</th>\n",
       "    </tr>\n",
       "  </thead>\n",
       "  <tbody>\n",
       "    <tr>\n",
       "      <th>indem_label</th>\n",
       "      <td>1.000000</td>\n",
       "      <td>0.131730</td>\n",
       "      <td>0.114054</td>\n",
       "      <td>0.157412</td>\n",
       "      <td>0.191448</td>\n",
       "      <td>0.048830</td>\n",
       "      <td>0.113733</td>\n",
       "    </tr>\n",
       "    <tr>\n",
       "      <th>BoardCredit</th>\n",
       "      <td>0.131730</td>\n",
       "      <td>1.000000</td>\n",
       "      <td>0.525431</td>\n",
       "      <td>0.034711</td>\n",
       "      <td>0.434245</td>\n",
       "      <td>0.171050</td>\n",
       "      <td>0.109640</td>\n",
       "    </tr>\n",
       "    <tr>\n",
       "      <th>ClaimsBand</th>\n",
       "      <td>0.114054</td>\n",
       "      <td>0.525431</td>\n",
       "      <td>1.000000</td>\n",
       "      <td>0.055314</td>\n",
       "      <td>0.445487</td>\n",
       "      <td>0.224323</td>\n",
       "      <td>0.350799</td>\n",
       "    </tr>\n",
       "    <tr>\n",
       "      <th>Procedures</th>\n",
       "      <td>0.157412</td>\n",
       "      <td>0.034711</td>\n",
       "      <td>0.055314</td>\n",
       "      <td>1.000000</td>\n",
       "      <td>-0.001525</td>\n",
       "      <td>-0.032338</td>\n",
       "      <td>0.048758</td>\n",
       "    </tr>\n",
       "    <tr>\n",
       "      <th>JCAHO</th>\n",
       "      <td>0.191448</td>\n",
       "      <td>0.434245</td>\n",
       "      <td>0.445487</td>\n",
       "      <td>-0.001525</td>\n",
       "      <td>1.000000</td>\n",
       "      <td>0.269885</td>\n",
       "      <td>0.062611</td>\n",
       "    </tr>\n",
       "    <tr>\n",
       "      <th>RecordKepping</th>\n",
       "      <td>0.048830</td>\n",
       "      <td>0.171050</td>\n",
       "      <td>0.224323</td>\n",
       "      <td>-0.032338</td>\n",
       "      <td>0.269885</td>\n",
       "      <td>1.000000</td>\n",
       "      <td>0.003415</td>\n",
       "    </tr>\n",
       "    <tr>\n",
       "      <th>age</th>\n",
       "      <td>0.113733</td>\n",
       "      <td>0.109640</td>\n",
       "      <td>0.350799</td>\n",
       "      <td>0.048758</td>\n",
       "      <td>0.062611</td>\n",
       "      <td>0.003415</td>\n",
       "      <td>1.000000</td>\n",
       "    </tr>\n",
       "  </tbody>\n",
       "</table>\n",
       "</div>"
      ],
      "text/plain": [
       "               indem_label  BoardCredit  ClaimsBand  Procedures     JCAHO  \\\n",
       "indem_label       1.000000     0.131730    0.114054    0.157412  0.191448   \n",
       "BoardCredit       0.131730     1.000000    0.525431    0.034711  0.434245   \n",
       "ClaimsBand        0.114054     0.525431    1.000000    0.055314  0.445487   \n",
       "Procedures        0.157412     0.034711    0.055314    1.000000 -0.001525   \n",
       "JCAHO             0.191448     0.434245    0.445487   -0.001525  1.000000   \n",
       "RecordKepping     0.048830     0.171050    0.224323   -0.032338  0.269885   \n",
       "age               0.113733     0.109640    0.350799    0.048758  0.062611   \n",
       "\n",
       "               RecordKepping       age  \n",
       "indem_label         0.048830  0.113733  \n",
       "BoardCredit         0.171050  0.109640  \n",
       "ClaimsBand          0.224323  0.350799  \n",
       "Procedures         -0.032338  0.048758  \n",
       "JCAHO               0.269885  0.062611  \n",
       "RecordKepping       1.000000  0.003415  \n",
       "age                 0.003415  1.000000  "
      ]
     },
     "execution_count": 304,
     "metadata": {},
     "output_type": "execute_result"
    }
   ],
   "source": [
    "joined.corr()"
   ]
  },
  {
   "cell_type": "code",
   "execution_count": 305,
   "metadata": {
    "collapsed": false
   },
   "outputs": [
    {
     "data": {
      "text/plain": [
       "(2813, 15)"
      ]
     },
     "execution_count": 305,
     "metadata": {},
     "output_type": "execute_result"
    }
   ],
   "source": [
    "joined.dropna(how='any', inplace=True)\n",
    "joined = joined.query('State != \"nan\"')\n",
    "joined.shape"
   ]
  },
  {
   "cell_type": "markdown",
   "metadata": {
    "collapsed": true
   },
   "source": [
    "# Basic model"
   ]
  },
  {
   "cell_type": "code",
   "execution_count": 306,
   "metadata": {
    "collapsed": true
   },
   "outputs": [],
   "source": [
    "from sklearn.ensemble import RandomForestClassifier\n",
    "from sklearn.cross_validation import train_test_split\n",
    "from sklearn.metrics import confusion_matrix"
   ]
  },
  {
   "cell_type": "code",
   "execution_count": 307,
   "metadata": {
    "collapsed": false,
    "scrolled": false
   },
   "outputs": [
    {
     "name": "stdout",
     "output_type": "stream",
     "text": [
      "2533 34 246\n"
     ]
    },
    {
     "name": "stderr",
     "output_type": "stream",
     "text": [
      "/anaconda/lib/python2.7/site-packages/ipykernel/__main__.py:7: SettingWithCopyWarning: \n",
      "A value is trying to be set on a copy of a slice from a DataFrame\n",
      "\n",
      "See the caveats in the documentation: http://pandas.pydata.org/pandas-docs/stable/indexing.html#indexing-view-versus-copy\n",
      "/anaconda/lib/python2.7/site-packages/ipykernel/__main__.py:8: SettingWithCopyWarning: \n",
      "A value is trying to be set on a copy of a slice from a DataFrame\n",
      "\n",
      "See the caveats in the documentation: http://pandas.pydata.org/pandas-docs/stable/indexing.html#indexing-view-versus-copy\n",
      "/anaconda/lib/python2.7/site-packages/ipykernel/__main__.py:9: SettingWithCopyWarning: \n",
      "A value is trying to be set on a copy of a slice from a DataFrame\n",
      "\n",
      "See the caveats in the documentation: http://pandas.pydata.org/pandas-docs/stable/indexing.html#indexing-view-versus-copy\n"
     ]
    }
   ],
   "source": [
    "# drop rows with any NaN values\n",
    "# not a long-term solution, but a quick and dirty model\n",
    "no_suit = joined[joined.indem_label == 0]\n",
    "suit_no_indem = joined[joined.indem_label == 1]\n",
    "suit_indem = joined[joined.indem_label == 2]\n",
    "\n",
    "no_suit.dropna(how='any', inplace=True)\n",
    "suit_no_indem.dropna(how='any', inplace=True)\n",
    "suit_indem.dropna(how='any', inplace=True)\n",
    "\n",
    "# print totals after NaN drop\n",
    "print no_suit.shape[0], suit_indem.shape[0], suit_no_indem.shape[0]\n",
    "\n",
    "# !\n",
    "# change values to 1 for binary classification\n",
    "# suit_indem['indem_label'] = 1\n",
    "\n",
    "# random sample from the three categories\n",
    "no_suit = no_suit.sample(600)\n",
    "suit_no_indem = suit_no_indem.sample(246)\n",
    "suit_indem = suit_indem.sample(34)"
   ]
  },
  {
   "cell_type": "code",
   "execution_count": 308,
   "metadata": {
    "collapsed": false,
    "scrolled": true
   },
   "outputs": [],
   "source": [
    "# combine random sample dataframes into concat_df\n",
    "concat_df = pd.concat([no_suit, suit_indem, suit_no_indem], axis=0)"
   ]
  },
  {
   "cell_type": "code",
   "execution_count": 309,
   "metadata": {
    "collapsed": false,
    "scrolled": false
   },
   "outputs": [],
   "source": [
    "# build label and feature dataframes\n",
    "y = concat_df.pop('indem_label')\n",
    "to_model = concat_df[['BoardCredit','ClaimsBand','Procedures','JCAHO','age','RecordKepping']]\n",
    "state = concat_df.pop('State')\n",
    "dummies = pd.get_dummies(state)\n",
    "to_model = pd.concat([to_model,dummies],axis=1)"
   ]
  },
  {
   "cell_type": "code",
   "execution_count": 310,
   "metadata": {
    "collapsed": false
   },
   "outputs": [],
   "source": [
    "# train / test split with random state\n",
    "X_train, X_test, y_train, y_test = train_test_split(to_model, y, test_size=0.10)"
   ]
  },
  {
   "cell_type": "code",
   "execution_count": 311,
   "metadata": {
    "collapsed": true
   },
   "outputs": [],
   "source": [
    "model = RandomForestClassifier(n_estimators=64,oob_score=True)"
   ]
  },
  {
   "cell_type": "code",
   "execution_count": 312,
   "metadata": {
    "collapsed": false
   },
   "outputs": [
    {
     "data": {
      "text/plain": [
       "0.65277777777777779"
      ]
     },
     "execution_count": 312,
     "metadata": {},
     "output_type": "execute_result"
    }
   ],
   "source": [
    "# fit, validate with OOB score\n",
    "model.fit(X_train,y_train)\n",
    "model.oob_score_"
   ]
  },
  {
   "cell_type": "code",
   "execution_count": 313,
   "metadata": {
    "collapsed": false
   },
   "outputs": [
    {
     "data": {
      "text/plain": [
       "0.72727272727272729"
      ]
     },
     "execution_count": 313,
     "metadata": {},
     "output_type": "execute_result"
    }
   ],
   "source": [
    "preds = model.predict(X_test)\n",
    "model.score(X_test, y_test)"
   ]
  },
  {
   "cell_type": "code",
   "execution_count": 314,
   "metadata": {
    "collapsed": false,
    "scrolled": true
   },
   "outputs": [
    {
     "data": {
      "text/plain": [
       "array([[51,  9,  1],\n",
       "       [10, 13,  1],\n",
       "       [ 3,  0,  0]])"
      ]
     },
     "execution_count": 314,
     "metadata": {},
     "output_type": "execute_result"
    }
   ],
   "source": [
    "confusion_matrix(y_test, preds)"
   ]
  },
  {
   "cell_type": "code",
   "execution_count": 276,
   "metadata": {
    "collapsed": false,
    "scrolled": true
   },
   "outputs": [
    {
     "data": {
      "text/plain": [
       "[([1, 0.3125, 0.6875, 0.0], 1.0),\n",
       " ([2, 0.4688, 0.4688, 0.0625], 1.0),\n",
       " ([3, 0.25, 0.75, 0.0], 0.0),\n",
       " ([4, 0.2031, 0.7422, 0.0547], 1.0),\n",
       " ([6, 0.7813, 0.1563, 0.0625], 2.0),\n",
       " ([7, 0.0313, 0.9336, 0.0352], 0.0),\n",
       " ([9, 0.7813, 0.2188, 0.0], 0.0),\n",
       " ([10, 0.4349, 0.5651, 0.0], 2.0),\n",
       " ([11, 0.2813, 0.6133, 0.1055], 0.0),\n",
       " ([12, 0.4063, 0.5938, 0.0], 0.0),\n",
       " ([13, 0.7188, 0.2813, 0.0], 1.0),\n",
       " ([15, 0.5313, 0.4063, 0.0625], 2.0),\n",
       " ([16, 0.4094, 0.5906, 0.0], 1.0),\n",
       " ([22, 0.4609, 0.5391, 0.0], 1.0),\n",
       " ([28, 0.0469, 0.3125, 0.6406], 1.0),\n",
       " ([29, 0.8099, 0.1901, 0.0], 0.0),\n",
       " ([33, 0.5751, 0.4249, 0.0], 0.0),\n",
       " ([35, 0.6171, 0.3829, 0.0], 0.0),\n",
       " ([36, 0.1719, 0.8281, 0.0], 2.0),\n",
       " ([38, 0.0781, 0.9219, 0.0], 1.0),\n",
       " ([39, 0.4773, 0.4758, 0.0469], 1.0),\n",
       " ([40, 0.4063, 0.5938, 0.0], 1.0),\n",
       " ([43, 0.7656, 0.2344, 0.0], 0.0),\n",
       " ([48, 0.3503, 0.6497, 0.0], 1.0),\n",
       " ([49, 0.4063, 0.5938, 0.0], 1.0),\n",
       " ([50, 0.3125, 0.6875, 0.0], 2.0),\n",
       " ([51, 0.6826, 0.3174, 0.0], 0.0),\n",
       " ([52, 0.7233, 0.2767, 0.0], 2.0),\n",
       " ([56, 0.4844, 0.5156, 0.0], 0.0),\n",
       " ([62, 0.5055, 0.4945, 0.0], 1.0),\n",
       " ([63, 0.6718, 0.3282, 0.0], 0.0),\n",
       " ([67, 0.6875, 0.2969, 0.0156], 0.0),\n",
       " ([69, 0.3179, 0.6821, 0.0], 0.0),\n",
       " ([70, 0.1719, 0.7969, 0.0313], 0.0),\n",
       " ([73, 0.0781, 0.8932, 0.0286], 1.0),\n",
       " ([74, 0.7875, 0.1812, 0.0313], 0.0),\n",
       " ([79, 0.1406, 0.8594, 0.0], 1.0),\n",
       " ([81, 0.6864, 0.3136, 0.0], 0.0),\n",
       " ([82, 0.6406, 0.3594, 0.0], 0.0),\n",
       " ([83, 0.6719, 0.3281, 0.0], 0.0),\n",
       " ([86, 0.3047, 0.1172, 0.5781], 1.0),\n",
       " ([87, 0.0716, 0.9128, 0.0156], 0.0)]"
      ]
     },
     "execution_count": 276,
     "metadata": {},
     "output_type": "execute_result"
    }
   ],
   "source": [
    "# grab indices from return_low_no_suit_score FUNC\n",
    "low_no_suit_scores = return_low_no_suit_score(model,X_test)\n",
    "indices = [x[0] for x in low_no_suit_scores]\n",
    "\n",
    "# make y_test a list of values, from DataFrame\n",
    "y_actual_list = y_test.values.tolist()\n",
    "# take indices from return_low_no_suit_score FUNC\n",
    "y_actual_list_appropriate_indices = [y_actual_list[x] for x in indices]\n",
    "\n",
    "zip(low_no_suit_scores,y_actual_list_appropriate_indices)"
   ]
  },
  {
   "cell_type": "code",
   "execution_count": null,
   "metadata": {
    "collapsed": false
   },
   "outputs": [],
   "source": []
  },
  {
   "cell_type": "code",
   "execution_count": null,
   "metadata": {
    "collapsed": true
   },
   "outputs": [],
   "source": []
  },
  {
   "cell_type": "code",
   "execution_count": null,
   "metadata": {
    "collapsed": true
   },
   "outputs": [],
   "source": []
  },
  {
   "cell_type": "markdown",
   "metadata": {},
   "source": [
    "#### Gridsearching! Hooray for premature optimization"
   ]
  },
  {
   "cell_type": "code",
   "execution_count": 227,
   "metadata": {
    "collapsed": false,
    "scrolled": true
   },
   "outputs": [
    {
     "data": {
      "text/plain": [
       "GridSearchCV(cv=None, error_score='raise',\n",
       "       estimator=RandomForestClassifier(bootstrap=True, class_weight=None, criterion='gini',\n",
       "            max_depth=None, max_features='auto', max_leaf_nodes=None,\n",
       "            min_samples_leaf=1, min_samples_split=2,\n",
       "            min_weight_fraction_leaf=0.0, n_estimators=95, n_jobs=1,\n",
       "            oob_score=True, random_state=None, verbose=0, warm_start=False),\n",
       "       fit_params={}, iid=True, n_jobs=1,\n",
       "       param_grid={'n_estimators': [32, 64, 80, 85, 90, 95, 100, 120], 'max_depth': [2, 3, 4, 5, 6, 8, 16, 32]},\n",
       "       pre_dispatch='2*n_jobs', refit=True, scoring=None, verbose=0)"
      ]
     },
     "execution_count": 227,
     "metadata": {},
     "output_type": "execute_result"
    }
   ],
   "source": [
    "n_est_range = [32,64,80,85,90,95,100,120]\n",
    "m_range = [2,3,4,5,6,8,16,32]\n",
    "lrgs = GridSearchCV(estimator=model, param_grid=dict(n_estimators=n_est_range, max_depth=m_range), n_jobs=1)\n",
    "lrgs.fit(X_train,y_train)"
   ]
  },
  {
   "cell_type": "code",
   "execution_count": 228,
   "metadata": {
    "collapsed": false,
    "scrolled": true
   },
   "outputs": [
    {
     "name": "stdout",
     "output_type": "stream",
     "text": [
      "0.704545454545\n",
      "RandomForestClassifier(bootstrap=True, class_weight=None, criterion='gini',\n",
      "            max_depth=5, max_features='auto', max_leaf_nodes=None,\n",
      "            min_samples_leaf=1, min_samples_split=2,\n",
      "            min_weight_fraction_leaf=0.0, n_estimators=64, n_jobs=1,\n",
      "            oob_score=True, random_state=None, verbose=0, warm_start=False)\n"
     ]
    }
   ],
   "source": [
    "print lrgs.best_score_\n",
    "print lrgs.best_estimator_"
   ]
  },
  {
   "cell_type": "code",
   "execution_count": null,
   "metadata": {
    "collapsed": true
   },
   "outputs": [],
   "source": []
  },
  {
   "cell_type": "code",
   "execution_count": null,
   "metadata": {
    "collapsed": true
   },
   "outputs": [],
   "source": []
  }
 ],
 "metadata": {
  "kernelspec": {
   "display_name": "Python 2",
   "language": "python",
   "name": "python2"
  },
  "language_info": {
   "codemirror_mode": {
    "name": "ipython",
    "version": 2
   },
   "file_extension": ".py",
   "mimetype": "text/x-python",
   "name": "python",
   "nbconvert_exporter": "python",
   "pygments_lexer": "ipython2",
   "version": "2.7.11"
  }
 },
 "nbformat": 4,
 "nbformat_minor": 0
}
