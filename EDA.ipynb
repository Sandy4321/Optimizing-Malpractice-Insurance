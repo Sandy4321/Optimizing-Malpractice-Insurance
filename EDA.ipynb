{
 "cells": [
  {
   "cell_type": "code",
   "execution_count": 3,
   "metadata": {
    "collapsed": true
   },
   "outputs": [],
   "source": [
    "import numpy as np\n",
    "import pandas as pd"
   ]
  },
  {
   "cell_type": "code",
   "execution_count": 4,
   "metadata": {
    "collapsed": false
   },
   "outputs": [],
   "source": [
    "# using docs to model\n",
    "# labels come from claims data \n",
    "claims = pd.read_csv('/Users/drewrice/Desktop/code/Claims.csv')\n",
    "docs = pd.read_csv('/Users/drewrice/Desktop/code/ProviderInfo.csv')"
   ]
  },
  {
   "cell_type": "code",
   "execution_count": 9,
   "metadata": {
    "collapsed": false
   },
   "outputs": [],
   "source": [
    "# drop\n",
    "docs.drop(['Middle Name','Address 1', 'Address 2', 'Zip','Address Type','Practice Start Date'],axis=1,inplace=True)\n",
    "docs.drop_duplicates(inplace=True)"
   ]
  },
  {
   "cell_type": "code",
   "execution_count": 8,
   "metadata": {
    "collapsed": false
   },
   "outputs": [],
   "source": [
    "indem = claims[['Indemnity_Paid','ProviderId']]"
   ]
  },
  {
   "cell_type": "code",
   "execution_count": null,
   "metadata": {
    "collapsed": false,
    "scrolled": true
   },
   "outputs": [],
   "source": [
    "docs.head()"
   ]
  },
  {
   "cell_type": "code",
   "execution_count": 12,
   "metadata": {
    "collapsed": false,
    "scrolled": true
   },
   "outputs": [],
   "source": [
    "# docs DF, conversion to string\n",
    "docs[['ProviderId','Last Name','First Name','Gender','City','State','County']] = \\\n",
    "docs[['ProviderId','Last Name','First Name','Gender','City','State','County']].astype(str)"
   ]
  },
  {
   "cell_type": "code",
   "execution_count": 13,
   "metadata": {
    "collapsed": false
   },
   "outputs": [
    {
     "name": "stderr",
     "output_type": "stream",
     "text": [
      "/anaconda/lib/python2.7/site-packages/ipykernel/__main__.py:2: SettingWithCopyWarning: \n",
      "A value is trying to be set on a copy of a slice from a DataFrame.\n",
      "Try using .loc[row_indexer,col_indexer] = value instead\n",
      "\n",
      "See the caveats in the documentation: http://pandas.pydata.org/pandas-docs/stable/indexing.html#indexing-view-versus-copy\n",
      "  from ipykernel import kernelapp as app\n",
      "/anaconda/lib/python2.7/site-packages/ipykernel/__main__.py:3: SettingWithCopyWarning: \n",
      "A value is trying to be set on a copy of a slice from a DataFrame.\n",
      "Try using .loc[row_indexer,col_indexer] = value instead\n",
      "\n",
      "See the caveats in the documentation: http://pandas.pydata.org/pandas-docs/stable/indexing.html#indexing-view-versus-copy\n",
      "  app.launch_new_instance()\n"
     ]
    }
   ],
   "source": [
    "# indem DF, conversions to string and float\n",
    "indem['Indemnity_Paid'] = indem['Indemnity_Paid'].str.replace(r'[$,]', '').astype('float')\n",
    "indem['ProviderId'] = indem['ProviderId'].astype(str)"
   ]
  },
  {
   "cell_type": "code",
   "execution_count": 14,
   "metadata": {
    "collapsed": true
   },
   "outputs": [],
   "source": [
    "# TODO: drop rows with NaN values, join on ProviderId\n",
    "# convert info to float and string"
   ]
  },
  {
   "cell_type": "code",
   "execution_count": 15,
   "metadata": {
    "collapsed": false
   },
   "outputs": [],
   "source": [
    "joined = pd.merge(docs, indem, how='outer', on='ProviderId')"
   ]
  },
  {
   "cell_type": "code",
   "execution_count": 16,
   "metadata": {
    "collapsed": false
   },
   "outputs": [
    {
     "name": "stdout",
     "output_type": "stream",
     "text": [
      "<class 'pandas.core.frame.DataFrame'>\n",
      "Int64Index: 6924 entries, 0 to 6923\n",
      "Data columns (total 9 columns):\n",
      "ProviderId        6924 non-null object\n",
      "Last Name         6457 non-null object\n",
      "First Name        6457 non-null object\n",
      "Gender            6457 non-null object\n",
      "Date of Birth     4065 non-null object\n",
      "City              6457 non-null object\n",
      "State             6457 non-null object\n",
      "County            6457 non-null object\n",
      "Indemnity_Paid    467 non-null float64\n",
      "dtypes: float64(1), object(8)\n",
      "memory usage: 540.9+ KB\n"
     ]
    }
   ],
   "source": [
    "joined.info()"
   ]
  },
  {
   "cell_type": "code",
   "execution_count": 17,
   "metadata": {
    "collapsed": false
   },
   "outputs": [],
   "source": [
    "def build_classifier(df):\n",
    "    if df['Indemnity_Paid'] > 0: return 2\n",
    "    elif df['Indemnity_Paid'] == 0.0: return 1 \n",
    "    else: return 0"
   ]
  },
  {
   "cell_type": "code",
   "execution_count": null,
   "metadata": {
    "collapsed": false
   },
   "outputs": [],
   "source": [
    "joined['test'] = joined.apply(build_classifier, axis=1)"
   ]
  },
  {
   "cell_type": "code",
   "execution_count": 16,
   "metadata": {
    "collapsed": false
   },
   "outputs": [],
   "source": [
    "prem = pd.read_csv('/Users/drewrice/Desktop/code/ScheduleOfWrittenPremium.csv')"
   ]
  },
  {
   "cell_type": "code",
   "execution_count": 26,
   "metadata": {
    "collapsed": false,
    "scrolled": true
   },
   "outputs": [
    {
     "data": {
      "text/plain": [
       "0.00            417\n",
       "125,000.00        7\n",
       "150,000.00        4\n",
       "110,000.00        3\n",
       "7,500.00          2\n",
       "80,000.00         2\n",
       "180,000.00        2\n",
       "200,000.00        2\n",
       "850,000.00        1\n",
       "42,500.00         1\n",
       "100,000.00        1\n",
       "294,946.64        1\n",
       "90,000.00         1\n",
       "101,500.00        1\n",
       "60,000.00         1\n",
       "1,000,000.00      1\n",
       "250,000.00        1\n",
       "145,000.00        1\n",
       "22,000.00         1\n",
       "675,000.00        1\n",
       "184,317.43        1\n",
       "160,000.00        1\n",
       "13,126.50         1\n",
       "199,999.99        1\n",
       "25,000.00         1\n",
       "23,750.00         1\n",
       "70,000.00         1\n",
       "99,000.00         1\n",
       "395,000.00        1\n",
       "699,000.00        1\n",
       "195,000.00        1\n",
       "192,191.13        1\n",
       "140,000.00        1\n",
       "500,000.00        1\n",
       "175,000.00        1\n",
       "95,000.00         1\n",
       "Name: Indemnity_Paid, dtype: int64"
      ]
     },
     "execution_count": 26,
     "metadata": {},
     "output_type": "execute_result"
    }
   ],
   "source": [
    "indem.Indemnity_Paid.value_counts()"
   ]
  },
  {
   "cell_type": "code",
   "execution_count": null,
   "metadata": {
    "collapsed": true
   },
   "outputs": [],
   "source": []
  }
 ],
 "metadata": {
  "kernelspec": {
   "display_name": "Python 2",
   "language": "python",
   "name": "python2"
  },
  "language_info": {
   "codemirror_mode": {
    "name": "ipython",
    "version": 2
   },
   "file_extension": ".py",
   "mimetype": "text/x-python",
   "name": "python",
   "nbconvert_exporter": "python",
   "pygments_lexer": "ipython2",
   "version": "2.7.11"
  }
 },
 "nbformat": 4,
 "nbformat_minor": 0
}
