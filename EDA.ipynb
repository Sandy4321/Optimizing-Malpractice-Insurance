{
 "cells": [
  {
   "cell_type": "code",
   "execution_count": 705,
   "metadata": {
    "collapsed": true
   },
   "outputs": [],
   "source": [
    "import numpy as np\n",
    "import pandas as pd\n",
    "pd.set_option('display.max_columns', None)\n",
    "from datetime import datetime\n",
    "from datetime import timedelta"
   ]
  },
  {
   "cell_type": "markdown",
   "metadata": {},
   "source": [
    "# Imports and feature selection"
   ]
  },
  {
   "cell_type": "code",
   "execution_count": 706,
   "metadata": {
    "collapsed": false
   },
   "outputs": [],
   "source": [
    "# using docs to model\n",
    "# labels come from claims data \n",
    "claims = pd.read_csv('/Users/drewrice/Desktop/capson_csv/Claims.csv')\n",
    "docs = pd.read_csv('/Users/drewrice/Desktop/capson_csv/ProviderInfo.csv')\n",
    "prems = pd.read_csv('/Users/drewrice/Desktop/capson_csv/ScheduleOfWrittenPremium.csv')\n",
    "debs_and_creds_full = pd.read_csv('/Users/drewrice/Desktop/capson_csv/ScheduleOfDebitsAndCredits.csv')"
   ]
  },
  {
   "cell_type": "code",
   "execution_count": 707,
   "metadata": {
    "collapsed": false
   },
   "outputs": [],
   "source": [
    "# drop non-essential columns\n",
    "docs.drop(['Middle Name','Address 1', 'Address 2', 'Zip','Address Type','Practice Start Date'],axis=1,inplace=True)\n",
    "docs.drop_duplicates(inplace=True)"
   ]
  },
  {
   "cell_type": "code",
   "execution_count": 708,
   "metadata": {
    "collapsed": false
   },
   "outputs": [],
   "source": [
    "# grab essential columns for building classifier\n",
    "indem = claims[['Indemnity_Paid','ProviderId']]"
   ]
  },
  {
   "cell_type": "code",
   "execution_count": 709,
   "metadata": {
    "collapsed": false,
    "scrolled": true
   },
   "outputs": [],
   "source": [
    "# docs DF, conversion to string\n",
    "# lower ProviderId\n",
    "docs[['ProviderId','Last Name','First Name','Gender','City','State','County']] = \\\n",
    "docs[['ProviderId','Last Name','First Name','Gender','City','State','County']].astype(str)\n",
    "docs['ProviderId'] = docs['ProviderId'].map(lambda x: x if type(x)!=str else x.lower())"
   ]
  },
  {
   "cell_type": "code",
   "execution_count": 710,
   "metadata": {
    "collapsed": false
   },
   "outputs": [
    {
     "name": "stderr",
     "output_type": "stream",
     "text": [
      "/anaconda/lib/python2.7/site-packages/ipykernel/__main__.py:3: SettingWithCopyWarning: \n",
      "A value is trying to be set on a copy of a slice from a DataFrame.\n",
      "Try using .loc[row_indexer,col_indexer] = value instead\n",
      "\n",
      "See the caveats in the documentation: http://pandas.pydata.org/pandas-docs/stable/indexing.html#indexing-view-versus-copy\n",
      "  app.launch_new_instance()\n",
      "/anaconda/lib/python2.7/site-packages/ipykernel/__main__.py:4: SettingWithCopyWarning: \n",
      "A value is trying to be set on a copy of a slice from a DataFrame.\n",
      "Try using .loc[row_indexer,col_indexer] = value instead\n",
      "\n",
      "See the caveats in the documentation: http://pandas.pydata.org/pandas-docs/stable/indexing.html#indexing-view-versus-copy\n",
      "/anaconda/lib/python2.7/site-packages/ipykernel/__main__.py:5: SettingWithCopyWarning: \n",
      "A value is trying to be set on a copy of a slice from a DataFrame.\n",
      "Try using .loc[row_indexer,col_indexer] = value instead\n",
      "\n",
      "See the caveats in the documentation: http://pandas.pydata.org/pandas-docs/stable/indexing.html#indexing-view-versus-copy\n"
     ]
    }
   ],
   "source": [
    "# indem DF, conversions to string and float\n",
    "# lower ProviderId\n",
    "indem['Indemnity_Paid'] = indem['Indemnity_Paid'].str.replace(r'[$,]', '').astype('float')\n",
    "indem['ProviderId'] = indem['ProviderId'].astype(str)\n",
    "indem['ProviderId'] = indem['ProviderId'].str.lower()"
   ]
  },
  {
   "cell_type": "code",
   "execution_count": 711,
   "metadata": {
    "collapsed": true
   },
   "outputs": [],
   "source": [
    "# def build_classifier_label(item):\n",
    "#     if item == 0:\n",
    "#         return 'suit, no indem'\n",
    "#     if item != 0:\n",
    "#         return 'suit, indem'\n",
    "\n",
    "def build_classifier_label(item):\n",
    "    if item == 0:\n",
    "        return 1\n",
    "    if item != 0:\n",
    "        return 2"
   ]
  },
  {
   "cell_type": "code",
   "execution_count": 712,
   "metadata": {
    "collapsed": false
   },
   "outputs": [
    {
     "name": "stderr",
     "output_type": "stream",
     "text": [
      "/anaconda/lib/python2.7/site-packages/ipykernel/__main__.py:1: SettingWithCopyWarning: \n",
      "A value is trying to be set on a copy of a slice from a DataFrame.\n",
      "Try using .loc[row_indexer,col_indexer] = value instead\n",
      "\n",
      "See the caveats in the documentation: http://pandas.pydata.org/pandas-docs/stable/indexing.html#indexing-view-versus-copy\n",
      "  if __name__ == '__main__':\n"
     ]
    }
   ],
   "source": [
    "indem['indem_label'] = indem['Indemnity_Paid'].apply(lambda item: build_classifier_label(item))"
   ]
  },
  {
   "cell_type": "markdown",
   "metadata": {},
   "source": [
    "# Join docs and indemnity tables, fill NaNs with 'no suit'"
   ]
  },
  {
   "cell_type": "code",
   "execution_count": 713,
   "metadata": {
    "collapsed": false
   },
   "outputs": [],
   "source": [
    "joined = pd.merge(docs, indem[['ProviderId', 'indem_label']], how='left', on='ProviderId')\n",
    "joined.drop_duplicates(inplace=True)"
   ]
  },
  {
   "cell_type": "code",
   "execution_count": 714,
   "metadata": {
    "collapsed": true
   },
   "outputs": [],
   "source": [
    "# finish indemnity classifier\n",
    "# find NaNs in indem_label column, replace with 'no suit'\n",
    "def indem_label_no_suit(x):\n",
    "    if type(x) == np.float_: \n",
    "        if np.isnan(x): \n",
    "#             return 'no suit'\n",
    "            return 0\n",
    "        else:\n",
    "            return x"
   ]
  },
  {
   "cell_type": "code",
   "execution_count": 715,
   "metadata": {
    "collapsed": false,
    "scrolled": false
   },
   "outputs": [],
   "source": [
    "joined.indem_label = joined.indem_label.apply(lambda item: indem_label_no_suit(item))"
   ]
  },
  {
   "cell_type": "markdown",
   "metadata": {
    "collapsed": false
   },
   "source": [
    "# Claims data\n",
    "#### building classifiers for BoardCredit and ClaimsBand, then merging with joined"
   ]
  },
  {
   "cell_type": "code",
   "execution_count": 717,
   "metadata": {
    "collapsed": true
   },
   "outputs": [],
   "source": [
    "def build_classifier(item):\n",
    "    if item == 0:\n",
    "        return 0\n",
    "    if item != 0:\n",
    "        return 1"
   ]
  },
  {
   "cell_type": "code",
   "execution_count": 718,
   "metadata": {
    "collapsed": false,
    "scrolled": true
   },
   "outputs": [
    {
     "name": "stderr",
     "output_type": "stream",
     "text": [
      "/anaconda/lib/python2.7/site-packages/ipykernel/__main__.py:7: SettingWithCopyWarning: \n",
      "A value is trying to be set on a copy of a slice from a DataFrame.\n",
      "Try using .loc[row_indexer,col_indexer] = value instead\n",
      "\n",
      "See the caveats in the documentation: http://pandas.pydata.org/pandas-docs/stable/indexing.html#indexing-view-versus-copy\n"
     ]
    },
    {
     "data": {
      "text/html": [
       "<div>\n",
       "<table border=\"1\" class=\"dataframe\">\n",
       "  <thead>\n",
       "    <tr style=\"text-align: right;\">\n",
       "      <th></th>\n",
       "      <th>ProviderId</th>\n",
       "      <th>BoardCredit</th>\n",
       "      <th>ClaimsBand</th>\n",
       "      <th>Procedures</th>\n",
       "      <th>JCAHO</th>\n",
       "      <th>RecordKepping</th>\n",
       "    </tr>\n",
       "  </thead>\n",
       "  <tbody>\n",
       "    <tr>\n",
       "      <th>8458</th>\n",
       "      <td>19d9c4e6-e820-41c4-b398-134e6c0ba410</td>\n",
       "      <td>-55</td>\n",
       "      <td>-220</td>\n",
       "      <td>0</td>\n",
       "      <td>0</td>\n",
       "      <td>0</td>\n",
       "    </tr>\n",
       "    <tr>\n",
       "      <th>8459</th>\n",
       "      <td>6398eeea-10af-448f-bd10-364be1d0c90c</td>\n",
       "      <td>0</td>\n",
       "      <td>-8951</td>\n",
       "      <td>0</td>\n",
       "      <td>-2984</td>\n",
       "      <td>0</td>\n",
       "    </tr>\n",
       "    <tr>\n",
       "      <th>8460</th>\n",
       "      <td>d54c0b59-08e5-4ed7-ba5a-413b2016b269</td>\n",
       "      <td>-1366</td>\n",
       "      <td>0</td>\n",
       "      <td>0</td>\n",
       "      <td>-1366</td>\n",
       "      <td>-2733</td>\n",
       "    </tr>\n",
       "    <tr>\n",
       "      <th>8461</th>\n",
       "      <td>3eacedf6-9173-4a64-89c7-ba8b6e150850</td>\n",
       "      <td>-88</td>\n",
       "      <td>0</td>\n",
       "      <td>0</td>\n",
       "      <td>0</td>\n",
       "      <td>0</td>\n",
       "    </tr>\n",
       "    <tr>\n",
       "      <th>8462</th>\n",
       "      <td>ea83f592-67dd-46d5-b15c-9d0738f81c93</td>\n",
       "      <td>0</td>\n",
       "      <td>-258</td>\n",
       "      <td>0</td>\n",
       "      <td>0</td>\n",
       "      <td>0</td>\n",
       "    </tr>\n",
       "  </tbody>\n",
       "</table>\n",
       "</div>"
      ],
      "text/plain": [
       "                                ProviderId  BoardCredit  ClaimsBand  \\\n",
       "8458  19d9c4e6-e820-41c4-b398-134e6c0ba410          -55        -220   \n",
       "8459  6398eeea-10af-448f-bd10-364be1d0c90c            0       -8951   \n",
       "8460  d54c0b59-08e5-4ed7-ba5a-413b2016b269        -1366           0   \n",
       "8461  3eacedf6-9173-4a64-89c7-ba8b6e150850          -88           0   \n",
       "8462  ea83f592-67dd-46d5-b15c-9d0738f81c93            0        -258   \n",
       "\n",
       "      Procedures  JCAHO  RecordKepping  \n",
       "8458           0      0              0  \n",
       "8459           0  -2984              0  \n",
       "8460           0  -1366          -2733  \n",
       "8461           0      0              0  \n",
       "8462           0      0              0  "
      ]
     },
     "execution_count": 718,
     "metadata": {},
     "output_type": "execute_result"
    }
   ],
   "source": [
    "# resave debs_and_creds with just the desired columns\n",
    "# NOTE: typo 'RecordKepping'\n",
    "debs_and_creds = debs_and_creds_full[['ProviderId','BoardCredit','ClaimsBand','Procedures','JCAHO','RecordKepping']]\n",
    "\n",
    "# lower Provider Id\n",
    "# reset index required\n",
    "debs_and_creds['ProviderId'] = debs_and_creds['ProviderId'].map(lambda x: x if type(x)!=str else x.lower())\n",
    "debs_and_creds.tail()"
   ]
  },
  {
   "cell_type": "code",
   "execution_count": 719,
   "metadata": {
    "collapsed": false,
    "scrolled": true
   },
   "outputs": [],
   "source": [
    "# group by Provider ID, resave debs_and_creds\n",
    "debs_and_creds = debs_and_creds.groupby(debs_and_creds['ProviderId']).sum()\n",
    "debs_and_creds.reset_index(inplace=True)"
   ]
  },
  {
   "cell_type": "code",
   "execution_count": 720,
   "metadata": {
    "collapsed": false,
    "scrolled": true
   },
   "outputs": [],
   "source": [
    "# use build_classifier to create binary column from BoardCredit & ClaimsBand\n",
    "debs_and_creds['BoardCredit'] = debs_and_creds['BoardCredit'].apply(lambda item: build_classifier(item))\n",
    "debs_and_creds['ClaimsBand'] = debs_and_creds['ClaimsBand'].apply(lambda item: build_classifier(item))\n",
    "debs_and_creds['Procedures'] = debs_and_creds['Procedures'].apply(lambda item: build_classifier(item))\n",
    "debs_and_creds['JCAHO'] = debs_and_creds['JCAHO'].apply(lambda item: build_classifier(item))\n",
    "debs_and_creds['RecordKepping'] = debs_and_creds['RecordKepping'].apply(lambda item: build_classifier(item))"
   ]
  },
  {
   "cell_type": "code",
   "execution_count": 721,
   "metadata": {
    "collapsed": false,
    "scrolled": true
   },
   "outputs": [],
   "source": [
    "joined = pd.merge(joined, debs_and_creds, how='left', on='ProviderId')"
   ]
  },
  {
   "cell_type": "markdown",
   "metadata": {},
   "source": [
    "# EDA"
   ]
  },
  {
   "cell_type": "code",
   "execution_count": 722,
   "metadata": {
    "collapsed": false,
    "scrolled": false
   },
   "outputs": [
    {
     "name": "stdout",
     "output_type": "stream",
     "text": [
      "Doctors wih no suits:  6147\n",
      "Doctors with suits, no indemnity paid:  281\n",
      "Doctors with suits, indemnity paid:  41\n"
     ]
    },
    {
     "name": "stderr",
     "output_type": "stream",
     "text": [
      "/anaconda/lib/python2.7/site-packages/ipykernel/__main__.py:2: FutureWarning: sort(columns=....) is deprecated, use sort_values(by=.....)\n",
      "  from ipykernel import kernelapp as app\n",
      "/anaconda/lib/python2.7/site-packages/ipykernel/__main__.py:3: FutureWarning: sort(columns=....) is deprecated, use sort_values(by=.....)\n",
      "  app.launch_new_instance()\n",
      "/anaconda/lib/python2.7/site-packages/ipykernel/__main__.py:4: FutureWarning: sort(columns=....) is deprecated, use sort_values(by=.....)\n"
     ]
    }
   ],
   "source": [
    "# print num of doctors in each bucket, using the \n",
    "print 'Doctors wih no suits: ', joined[joined['indem_label'] == 0].sort(['Last Name']).shape[0]\n",
    "print 'Doctors with suits, no indemnity paid: ', joined[joined['indem_label'] == 1].sort(['Last Name']).shape[0]\n",
    "print 'Doctors with suits, indemnity paid: ', joined[joined['indem_label'] == 2].sort(['Last Name']).shape[0]"
   ]
  },
  {
   "cell_type": "markdown",
   "metadata": {},
   "source": [
    "# Feature engineering"
   ]
  },
  {
   "cell_type": "markdown",
   "metadata": {},
   "source": [
    "### ~ build age column ~"
   ]
  },
  {
   "cell_type": "code",
   "execution_count": 723,
   "metadata": {
    "collapsed": false
   },
   "outputs": [],
   "source": [
    "# convert DoB to datetime object\n",
    "joined['Date of Birth'] = pd.to_datetime(joined['Date of Birth'])"
   ]
  },
  {
   "cell_type": "code",
   "execution_count": 724,
   "metadata": {
    "collapsed": false,
    "scrolled": false
   },
   "outputs": [],
   "source": [
    "# time_delta function\n",
    "def time_delta(dt):\n",
    "    if dt.year > 2000:\n",
    "        dt = dt - timedelta(days=36525)\n",
    "    return dt"
   ]
  },
  {
   "cell_type": "code",
   "execution_count": 725,
   "metadata": {
    "collapsed": false
   },
   "outputs": [],
   "source": [
    "# apply time_delta function to DoB column, deal with datetime rounding to the 2000s\n",
    "joined['Date of Birth'] = joined['Date of Birth'].apply(lambda dt: time_delta(dt))"
   ]
  },
  {
   "cell_type": "code",
   "execution_count": 726,
   "metadata": {
    "collapsed": true
   },
   "outputs": [],
   "source": [
    "# fill missing values with 1/1/2060\n",
    "joined['Date of Birth'].fillna(datetime(2060, 1, 1, 0, 0),inplace=True)"
   ]
  },
  {
   "cell_type": "code",
   "execution_count": 727,
   "metadata": {
    "collapsed": false
   },
   "outputs": [],
   "source": [
    "# build age column\n",
    "now = datetime.now()\n",
    "joined['age'] = now - joined['Date of Birth']"
   ]
  },
  {
   "cell_type": "code",
   "execution_count": 728,
   "metadata": {
    "collapsed": false,
    "scrolled": true
   },
   "outputs": [],
   "source": [
    "# function to convert years into days\n",
    "def to_years(dt):\n",
    "    if dt:\n",
    "        dt = (dt.days) / 365.25\n",
    "    return dt"
   ]
  },
  {
   "cell_type": "code",
   "execution_count": 729,
   "metadata": {
    "collapsed": false,
    "scrolled": false
   },
   "outputs": [],
   "source": [
    "# apply to_years function to age column\n",
    "joined['age'] = (joined['age'].apply(lambda dt: to_years(dt))).round()"
   ]
  },
  {
   "cell_type": "code",
   "execution_count": 730,
   "metadata": {
    "collapsed": false,
    "scrolled": false
   },
   "outputs": [],
   "source": [
    "# refill Date of Birth with NaNs\n",
    "joined['Date of Birth'].replace(datetime(2060, 1, 1, 0, 0), np.nan, inplace=True)"
   ]
  },
  {
   "cell_type": "code",
   "execution_count": 731,
   "metadata": {
    "collapsed": false,
    "scrolled": false
   },
   "outputs": [],
   "source": [
    "def refill_age(x):\n",
    "    if x < 0:\n",
    "        x = np.nan\n",
    "    return x"
   ]
  },
  {
   "cell_type": "code",
   "execution_count": 732,
   "metadata": {
    "collapsed": true
   },
   "outputs": [],
   "source": [
    "# refill age with nan's for docs with missing birthdate\n",
    "joined['age'] = (joined['age'].apply(lambda dt: refill_age(dt))).round()"
   ]
  },
  {
   "cell_type": "code",
   "execution_count": 733,
   "metadata": {
    "collapsed": false,
    "scrolled": false
   },
   "outputs": [
    {
     "data": {
      "text/html": [
       "<div>\n",
       "<table border=\"1\" class=\"dataframe\">\n",
       "  <thead>\n",
       "    <tr style=\"text-align: right;\">\n",
       "      <th></th>\n",
       "      <th>indem_label</th>\n",
       "      <th>BoardCredit</th>\n",
       "      <th>ClaimsBand</th>\n",
       "      <th>Procedures</th>\n",
       "      <th>JCAHO</th>\n",
       "      <th>RecordKepping</th>\n",
       "      <th>age</th>\n",
       "    </tr>\n",
       "  </thead>\n",
       "  <tbody>\n",
       "    <tr>\n",
       "      <th>indem_label</th>\n",
       "      <td>1.000000</td>\n",
       "      <td>0.131730</td>\n",
       "      <td>0.114054</td>\n",
       "      <td>0.157412</td>\n",
       "      <td>0.191448</td>\n",
       "      <td>0.048830</td>\n",
       "      <td>0.113900</td>\n",
       "    </tr>\n",
       "    <tr>\n",
       "      <th>BoardCredit</th>\n",
       "      <td>0.131730</td>\n",
       "      <td>1.000000</td>\n",
       "      <td>0.525431</td>\n",
       "      <td>0.034711</td>\n",
       "      <td>0.434245</td>\n",
       "      <td>0.171050</td>\n",
       "      <td>0.109534</td>\n",
       "    </tr>\n",
       "    <tr>\n",
       "      <th>ClaimsBand</th>\n",
       "      <td>0.114054</td>\n",
       "      <td>0.525431</td>\n",
       "      <td>1.000000</td>\n",
       "      <td>0.055314</td>\n",
       "      <td>0.445487</td>\n",
       "      <td>0.224323</td>\n",
       "      <td>0.350789</td>\n",
       "    </tr>\n",
       "    <tr>\n",
       "      <th>Procedures</th>\n",
       "      <td>0.157412</td>\n",
       "      <td>0.034711</td>\n",
       "      <td>0.055314</td>\n",
       "      <td>1.000000</td>\n",
       "      <td>-0.001525</td>\n",
       "      <td>-0.032338</td>\n",
       "      <td>0.048823</td>\n",
       "    </tr>\n",
       "    <tr>\n",
       "      <th>JCAHO</th>\n",
       "      <td>0.191448</td>\n",
       "      <td>0.434245</td>\n",
       "      <td>0.445487</td>\n",
       "      <td>-0.001525</td>\n",
       "      <td>1.000000</td>\n",
       "      <td>0.269885</td>\n",
       "      <td>0.062431</td>\n",
       "    </tr>\n",
       "    <tr>\n",
       "      <th>RecordKepping</th>\n",
       "      <td>0.048830</td>\n",
       "      <td>0.171050</td>\n",
       "      <td>0.224323</td>\n",
       "      <td>-0.032338</td>\n",
       "      <td>0.269885</td>\n",
       "      <td>1.000000</td>\n",
       "      <td>0.003570</td>\n",
       "    </tr>\n",
       "    <tr>\n",
       "      <th>age</th>\n",
       "      <td>0.113900</td>\n",
       "      <td>0.109534</td>\n",
       "      <td>0.350789</td>\n",
       "      <td>0.048823</td>\n",
       "      <td>0.062431</td>\n",
       "      <td>0.003570</td>\n",
       "      <td>1.000000</td>\n",
       "    </tr>\n",
       "  </tbody>\n",
       "</table>\n",
       "</div>"
      ],
      "text/plain": [
       "               indem_label  BoardCredit  ClaimsBand  Procedures     JCAHO  \\\n",
       "indem_label       1.000000     0.131730    0.114054    0.157412  0.191448   \n",
       "BoardCredit       0.131730     1.000000    0.525431    0.034711  0.434245   \n",
       "ClaimsBand        0.114054     0.525431    1.000000    0.055314  0.445487   \n",
       "Procedures        0.157412     0.034711    0.055314    1.000000 -0.001525   \n",
       "JCAHO             0.191448     0.434245    0.445487   -0.001525  1.000000   \n",
       "RecordKepping     0.048830     0.171050    0.224323   -0.032338  0.269885   \n",
       "age               0.113900     0.109534    0.350789    0.048823  0.062431   \n",
       "\n",
       "               RecordKepping       age  \n",
       "indem_label         0.048830  0.113900  \n",
       "BoardCredit         0.171050  0.109534  \n",
       "ClaimsBand          0.224323  0.350789  \n",
       "Procedures         -0.032338  0.048823  \n",
       "JCAHO               0.269885  0.062431  \n",
       "RecordKepping       1.000000  0.003570  \n",
       "age                 0.003570  1.000000  "
      ]
     },
     "execution_count": 733,
     "metadata": {},
     "output_type": "execute_result"
    }
   ],
   "source": [
    "joined.corr()"
   ]
  },
  {
   "cell_type": "code",
   "execution_count": null,
   "metadata": {
    "collapsed": false,
    "scrolled": false
   },
   "outputs": [],
   "source": []
  }
 ],
 "metadata": {
  "kernelspec": {
   "display_name": "Python 2",
   "language": "python",
   "name": "python2"
  },
  "language_info": {
   "codemirror_mode": {
    "name": "ipython",
    "version": 2
   },
   "file_extension": ".py",
   "mimetype": "text/x-python",
   "name": "python",
   "nbconvert_exporter": "python",
   "pygments_lexer": "ipython2",
   "version": "2.7.11"
  }
 },
 "nbformat": 4,
 "nbformat_minor": 0
}
